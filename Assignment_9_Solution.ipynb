{
 "cells": [
  {
   "cell_type": "markdown",
   "metadata": {},
   "source": [
    "# Assignment_9"
   ]
  },
  {
   "cell_type": "markdown",
   "metadata": {
    "id": "gQxlLsxs-oEh"
   },
   "source": [
    "### Q1. To what does a relative path refer?"
   ]
  },
  {
   "cell_type": "markdown",
   "metadata": {
    "id": "gQxlLsxs-oEh"
   },
   "source": [
    "S1. The relative path is the path of a file with respect to your current working directory (PWD)."
   ]
  },
  {
   "cell_type": "markdown",
   "metadata": {
    "id": "gQxlLsxs-oEh"
   },
   "source": [
    "### Q2. What does an absolute path start with your operating system?"
   ]
  },
  {
   "cell_type": "markdown",
   "metadata": {
    "id": "gQxlLsxs-oEh"
   },
   "source": [
    "S2. An absolute path contains the full set of directories from the root of the file system up to your target file or directory. \n",
    "An absolute path start with the root folder, such as / or C:\\."
   ]
  },
  {
   "cell_type": "markdown",
   "metadata": {
    "id": "gQxlLsxs-oEh"
   },
   "source": [
    "   \n",
    "### Q3. What do the functions os.getcwd() and os.chdir() do?"
   ]
  },
  {
   "cell_type": "markdown",
   "metadata": {
    "id": "gQxlLsxs-oEh"
   },
   "source": [
    "S3. getcwd stands for \"get current working directory\". os.getcwd() returns the absolute path of the working directory where Python is currently running as a string str . \n",
    "chdir stands for \"change directory\". os.chdir() method in Python used to change the current working directory to specified path. It takes only a single argument as new directory path."
   ]
  },
  {
   "cell_type": "markdown",
   "metadata": {
    "id": "gQxlLsxs-oEh"
   },
   "source": [
    "### Q4. What are the . and .. folders?"
   ]
  },
  {
   "cell_type": "markdown",
   "metadata": {
    "id": "gQxlLsxs-oEh"
   },
   "source": [
    "S4. The . is the current directory, while .. signifies the parent directory."
   ]
  },
  {
   "cell_type": "markdown",
   "metadata": {
    "id": "gQxlLsxs-oEh"
   },
   "source": [
    "### Q5. In C:\\bacon\\eggs\\spam.txt, which part is the dir name, and which part is the base name?"
   ]
  },
  {
   "cell_type": "markdown",
   "metadata": {
    "id": "gQxlLsxs-oEh"
   },
   "source": [
    "S5. The basename is the final rightmost segment of the file path . In the above path base name is spam.txt. os.path.basename() can be used to extract base name from the path.\n",
    "   dir name is th folder name in which file exists. In the above path dir name is  C:\\bacon\\eggs . os.path.dirname() can be used to extract dir name form path."
   ]
  },
  {
   "cell_type": "markdown",
   "metadata": {
    "id": "gQxlLsxs-oEh"
   },
   "source": [
    "### Q6. What are the three “mode” arguments that can be passed to the open() function?"
   ]
  },
  {
   "cell_type": "markdown",
   "metadata": {
    "id": "gQxlLsxs-oEh"
   },
   "source": [
    "S6. mode arguments that can be passed to open () function are:\n",
    "   'r'\tOpen a file for reading. (default)\n",
    "   'w'\tOpen a file for writing. Creates a new file if it does not exist or truncates the file if it exists.\n",
    "   'a'\tOpen for appending at the end of the file without truncating it. Creates a new file if it does not exist.\n",
    "   '+'\tOpen a file for updating (reading and writing)"
   ]
  },
  {
   "cell_type": "markdown",
   "metadata": {
    "id": "gQxlLsxs-oEh"
   },
   "source": [
    "### Q7. What happens if an existing file is opened in write mode?"
   ]
  },
  {
   "cell_type": "markdown",
   "metadata": {
    "id": "gQxlLsxs-oEh"
   },
   "source": [
    "S7. when a existing file is opened in write mode, contens which were previously present will be overwritten by new content passed."
   ]
  },
  {
   "cell_type": "markdown",
   "metadata": {
    "id": "gQxlLsxs-oEh"
   },
   "source": [
    "### Q8. How do you tell the difference between read() and readlines()?"
   ]
  },
  {
   "cell_type": "markdown",
   "metadata": {
    "id": "gQxlLsxs-oEh"
   },
   "source": [
    "S8. read() reads the entire contents of the file into a string. The readlines() method returns a list of strings, where each string is a line from the file’s contents."
   ]
  },
  {
   "cell_type": "markdown",
   "metadata": {
    "id": "gQxlLsxs-oEh"
   },
   "source": [
    "### Q9. What data structure does a shelf value resemble?"
   ]
  },
  {
   "cell_type": "markdown",
   "metadata": {
    "id": "gQxlLsxs-oEh"
   },
   "source": [
    "S9. A shelf value resembles a dictionary value; it has keys and values, along with keys() and values() methods that work similarly to the dictionary methods of the same names."
   ]
  }
 ],
 "metadata": {
  "colab": {
   "collapsed_sections": [],
   "name": "PythonBasics_9.ipynb",
   "provenance": []
  },
  "kernelspec": {
   "display_name": "Python 3 (ipykernel)",
   "language": "python",
   "name": "python3"
  },
  "language_info": {
   "codemirror_mode": {
    "name": "ipython",
    "version": 3
   },
   "file_extension": ".py",
   "mimetype": "text/x-python",
   "name": "python",
   "nbconvert_exporter": "python",
   "pygments_lexer": "ipython3",
   "version": "3.9.7"
  }
 },
 "nbformat": 4,
 "nbformat_minor": 1
}
