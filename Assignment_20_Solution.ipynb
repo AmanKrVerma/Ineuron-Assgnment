{
 "cells": [
  {
   "cell_type": "markdown",
   "id": "e934b8d7",
   "metadata": {},
   "source": [
    "# Assignment_20"
   ]
  },
  {
   "cell_type": "markdown",
   "id": "a2344b89",
   "metadata": {},
   "source": [
    "## Q1. Set the variable test1 to the string 'This is a test of the emergency text system,' and save test1 to a file named test.txt."
   ]
  },
  {
   "cell_type": "markdown",
   "id": "b93999ed",
   "metadata": {},
   "source": [
    "S1."
   ]
  },
  {
   "cell_type": "code",
   "execution_count": 1,
   "id": "2ec047a7",
   "metadata": {},
   "outputs": [
    {
     "data": {
      "text/plain": [
       "44"
      ]
     },
     "execution_count": 1,
     "metadata": {},
     "output_type": "execute_result"
    }
   ],
   "source": [
    "# creating a string and saving it to a variable test1.\n",
    "test1 = 'This is a test of the emergency text system,'\n",
    "\n",
    "#  Checking the length of string saved in test2 variable using len() function.\n",
    "len(test1)"
   ]
  },
  {
   "cell_type": "code",
   "execution_count": 2,
   "id": "9eebe6c7",
   "metadata": {},
   "outputs": [],
   "source": [
    "# Creating a new test.txt file & saving it to a variable outfile.\n",
    "outfile = open('test.txt', 'wt')\n",
    "\n",
    "# Writing test1 to test.txt file.\n",
    "outfile.write(test1)\n",
    "\n",
    "# Closing the test.txt file, close() closes the file and frees the memory space acquired by that file.\n",
    "outfile.close()"
   ]
  },
  {
   "cell_type": "markdown",
   "id": "dd75dbbf",
   "metadata": {},
   "source": [
    "## Q2. Read the contents of the file test.txt into the variable test2. Is there a difference between test 1 and test 2?"
   ]
  },
  {
   "cell_type": "markdown",
   "id": "57a30236",
   "metadata": {},
   "source": [
    "S2."
   ]
  },
  {
   "cell_type": "code",
   "execution_count": 3,
   "id": "d53f8f27",
   "metadata": {},
   "outputs": [],
   "source": [
    "# Using with open() function  to open test.txt & reading file as myfile\n",
    "with open('test.txt', 'rt') as myfile:\n",
    "    \n",
    "    # Reading myfile content and saving it to test 2 variable\n",
    "    test2 = myfile.read()"
   ]
  },
  {
   "cell_type": "code",
   "execution_count": 4,
   "id": "b8462fd2",
   "metadata": {},
   "outputs": [
    {
     "data": {
      "text/plain": [
       "44"
      ]
     },
     "execution_count": 4,
     "metadata": {},
     "output_type": "execute_result"
    }
   ],
   "source": [
    "# Checking the length of string saved in test2 variable using len() function.\n",
    "len(test2)"
   ]
  },
  {
   "cell_type": "code",
   "execution_count": 5,
   "id": "aaf8c75a",
   "metadata": {},
   "outputs": [
    {
     "data": {
      "text/plain": [
       "True"
      ]
     },
     "execution_count": 5,
     "metadata": {},
     "output_type": "execute_result"
    }
   ],
   "source": [
    "# Equating both  variables test1 & test2\n",
    "test1 == test2"
   ]
  },
  {
   "cell_type": "markdown",
   "id": "7792b60a",
   "metadata": {},
   "source": [
    "## Q3. Create a CSV file called books.csv by using these lines:"
   ]
  },
  {
   "cell_type": "raw",
   "id": "048fb7e0",
   "metadata": {},
   "source": [
    "title,author,year\n",
    "The Weirdstone of Brisingamen,Alan Garner,1960\n",
    "Perdido Street Station,China Miéville,2000\n",
    "Thud!,Terry Pratchett,2005\n",
    "The Spellman Files,Lisa Lutz,2007\n",
    "Small Gods,Terry Pratchett,1992"
   ]
  },
  {
   "cell_type": "markdown",
   "id": "da2f0695",
   "metadata": {},
   "source": [
    "S3."
   ]
  },
  {
   "cell_type": "code",
   "execution_count": 6,
   "id": "fbe782f6",
   "metadata": {},
   "outputs": [],
   "source": [
    "# Assigning the content to text variable.\n",
    "\n",
    "text='''title,author,year\n",
    "The Weirdstone of Brisingamen,Alan Garner,1960\n",
    "Perdido Street Station,China Miéville,2000\n",
    "Thud!,Terry Pratchett,2005\n",
    "The Spellman Files,Lisa Lutz,2007\n",
    "Small Gods,Terry Pratchett,1992'''"
   ]
  },
  {
   "cell_type": "code",
   "execution_count": 7,
   "id": "1aeacdb5",
   "metadata": {},
   "outputs": [],
   "source": [
    "# Opening the books.csv file using with open & reading file as outfile.\n",
    "\n",
    "with open('books.csv', 'wt') as outfile:\n",
    "    # Writing text to outfile.\n",
    "    # Closing the file.\n",
    "    outfile.write(text)\n",
    "    outfile.close()    "
   ]
  },
  {
   "cell_type": "code",
   "execution_count": 8,
   "id": "1e130673",
   "metadata": {},
   "outputs": [
    {
     "name": "stdout",
     "output_type": "stream",
     "text": [
      "['title', 'author', 'year']\n",
      "['The Weirdstone of Brisingamen', 'Alan Garner', '1960']\n",
      "['Perdido Street Station', 'China Miéville', '2000']\n",
      "['Thud!', 'Terry Pratchett', '2005']\n",
      "['The Spellman Files', 'Lisa Lutz', '2007']\n",
      "['Small Gods', 'Terry Pratchett', '1992']\n"
     ]
    }
   ],
   "source": [
    "# Showing the content of books.csv file.\n",
    "# Importing csv file.\n",
    "import csv\n",
    "with open('books.csv','r') as file_obj:\n",
    "    # Create reader object by passing the file. \n",
    "    # object to reader method.\n",
    "    reader_obj = csv.reader(file_obj)\n",
    "      \n",
    "    # Iterate over each row in the csv. \n",
    "    # file using reader object.\n",
    "    for row in reader_obj:\n",
    "        print(row)"
   ]
  },
  {
   "cell_type": "markdown",
   "id": "1054aef6",
   "metadata": {},
   "source": [
    "## Q4. Use the sqlite3 module to create a SQLite database called books.db, and a table called books with these fields: title (text), author (text), and year (integer)."
   ]
  },
  {
   "cell_type": "markdown",
   "id": "f3ef406c",
   "metadata": {},
   "source": [
    "S4."
   ]
  },
  {
   "cell_type": "code",
   "execution_count": 9,
   "id": "ccd2e8db",
   "metadata": {},
   "outputs": [],
   "source": [
    "# Importing sqlite3 module.\n",
    "# sqlite3.connect() API opens a connection to the SQLite database file.\n",
    "# Create a database cursor to execute SQL statements and fetch results from SQL queries.\n",
    "\n",
    "import sqlite3\n",
    "db = sqlite3.connect('books.db')\n",
    "curs = db.cursor()"
   ]
  },
  {
   "cell_type": "code",
   "execution_count": 10,
   "id": "7043f28a",
   "metadata": {},
   "outputs": [
    {
     "data": {
      "text/plain": [
       "<sqlite3.Cursor at 0x1f9d6c73490>"
      ]
     },
     "execution_count": 10,
     "metadata": {},
     "output_type": "execute_result"
    }
   ],
   "source": [
    "# Create a database table \n",
    "curs.execute('''create table book (title text, author text, year int)''')"
   ]
  },
  {
   "cell_type": "code",
   "execution_count": 11,
   "id": "bb08cc69",
   "metadata": {},
   "outputs": [],
   "source": [
    "# commit() method commits the current transaction or changes in database.\n",
    "db.commit()"
   ]
  },
  {
   "cell_type": "markdown",
   "id": "968cac46",
   "metadata": {},
   "source": [
    "## Q5. Read books.csv and insert its data into the book table."
   ]
  },
  {
   "cell_type": "markdown",
   "id": "991aeea2",
   "metadata": {},
   "source": [
    "S5."
   ]
  },
  {
   "cell_type": "code",
   "execution_count": 12,
   "id": "44bbdabd",
   "metadata": {},
   "outputs": [
    {
     "name": "stdout",
     "output_type": "stream",
     "text": [
      "{'title': 'The Weirdstone of Brisingamen', 'author': 'Alan Garner', 'year': '1960'}\n",
      "{'title': 'Perdido Street Station', 'author': 'China Miéville', 'year': '2000'}\n",
      "{'title': 'Thud!', 'author': 'Terry Pratchett', 'year': '2005'}\n",
      "{'title': 'The Spellman Files', 'author': 'Lisa Lutz', 'year': '2007'}\n",
      "{'title': 'Small Gods', 'author': 'Terry Pratchett', 'year': '1992'}\n"
     ]
    }
   ],
   "source": [
    "# importing CSV module.\n",
    "# Importing sqlite3 module.\n",
    "\n",
    "import csv\n",
    "import sqlite3\n",
    "ins_str = 'insert into book values(?, ?, ?)'\n",
    "\n",
    "# Opening the books.csv file using with open & reading file as infile.\n",
    "with open('books.csv', 'rt') as infile:\n",
    "    # csv.DictReader(file_obj) is a reader object that can be used to fetch row-wise data.\n",
    "    books = csv.DictReader(infile)\n",
    "    \n",
    "    for book in books:\n",
    "        curs.execute(ins_str, (book['title'], book['author'], book['year']))\n",
    "        print (book)\n",
    "db.commit()"
   ]
  },
  {
   "cell_type": "markdown",
   "id": "3e72ed72",
   "metadata": {},
   "source": [
    "## Q6. Select and print the title column from the book table in alphabetical order."
   ]
  },
  {
   "cell_type": "markdown",
   "id": "1c1a0007",
   "metadata": {},
   "source": [
    "S6."
   ]
  },
  {
   "cell_type": "code",
   "execution_count": 23,
   "id": "2a9463ff",
   "metadata": {},
   "outputs": [
    {
     "name": "stdout",
     "output_type": "stream",
     "text": [
      "('Perdido Street Station',)\n",
      "('Small Gods',)\n",
      "('The Spellman Files',)\n",
      "('The Weirdstone of Brisingamen',)\n",
      "('Thud!',)\n"
     ]
    }
   ],
   "source": [
    "# printing Title column in alphabetical order\n",
    "sql = 'select title from book order by title asc'\n",
    "for row in db.execute(sql):\n",
    "    print(row)"
   ]
  },
  {
   "cell_type": "markdown",
   "id": "941d3d14",
   "metadata": {},
   "source": [
    "Or"
   ]
  },
  {
   "cell_type": "code",
   "execution_count": 22,
   "id": "542553c1",
   "metadata": {},
   "outputs": [
    {
     "name": "stdout",
     "output_type": "stream",
     "text": [
      "Perdido Street Station\n",
      "Small Gods\n",
      "The Spellman Files\n",
      "The Weirdstone of Brisingamen\n",
      "Thud!\n"
     ]
    }
   ],
   "source": [
    "for row in db.execute(sql):\n",
    "    print(row[0])"
   ]
  },
  {
   "cell_type": "markdown",
   "id": "3d56a434",
   "metadata": {},
   "source": [
    "## Q7. From the book table, select and print all columns in the order of publication."
   ]
  },
  {
   "cell_type": "markdown",
   "id": "38986921",
   "metadata": {},
   "source": [
    "S7."
   ]
  },
  {
   "cell_type": "code",
   "execution_count": 24,
   "id": "a243955e",
   "metadata": {},
   "outputs": [
    {
     "name": "stdout",
     "output_type": "stream",
     "text": [
      "('The Weirdstone of Brisingamen', 'Alan Garner', 1960)\n",
      "('Small Gods', 'Terry Pratchett', 1992)\n",
      "('Perdido Street Station', 'China Miéville', 2000)\n",
      "('Thud!', 'Terry Pratchett', 2005)\n",
      "('The Spellman Files', 'Lisa Lutz', 2007)\n"
     ]
    }
   ],
   "source": [
    "# Printing all columns in order of publication\n",
    "for row in db.execute('select * from book order by year'):\n",
    "    print(row)"
   ]
  },
  {
   "cell_type": "markdown",
   "id": "d5bf8977",
   "metadata": {},
   "source": [
    "Or"
   ]
  },
  {
   "cell_type": "code",
   "execution_count": 32,
   "id": "e12d92f7",
   "metadata": {},
   "outputs": [
    {
     "name": "stdout",
     "output_type": "stream",
     "text": [
      "The Weirdstone of Brisingamen, Alan Garner, 1960\n",
      "Small Gods, Terry Pratchett, 1992\n",
      "Perdido Street Station, China Miéville, 2000\n",
      "Thud!, Terry Pratchett, 2005\n",
      "The Spellman Files, Lisa Lutz, 2007\n"
     ]
    }
   ],
   "source": [
    "for row in db.execute('select * from book order by year'):\n",
    "    print(*row, sep=', ')"
   ]
  },
  {
   "cell_type": "markdown",
   "id": "666523cc",
   "metadata": {},
   "source": [
    "## Q8. Use the sqlalchemy module to connect to the sqlite3 database books.db that you just made in exercise 6."
   ]
  },
  {
   "cell_type": "markdown",
   "id": "b56a9535",
   "metadata": {},
   "source": [
    "S8."
   ]
  },
  {
   "cell_type": "code",
   "execution_count": 33,
   "id": "34c1a244",
   "metadata": {},
   "outputs": [
    {
     "name": "stdout",
     "output_type": "stream",
     "text": [
      "('Perdido Street Station',)\n",
      "('Small Gods',)\n",
      "('The Spellman Files',)\n",
      "('The Weirdstone of Brisingamen',)\n",
      "('Thud!',)\n"
     ]
    }
   ],
   "source": [
    "# Importing sqlalchemy module\n",
    "# Connecting to database books.db\n",
    "# Creating query\n",
    "# Executing query\n",
    "# Printing the query using for loop\n",
    "\n",
    "import sqlalchemy\n",
    "conn = sqlalchemy.create_engine('sqlite:///books.db')\n",
    "sql = 'select title from book order by title asc'\n",
    "rows = conn.execute(sql)\n",
    "\n",
    "for row in rows:\n",
    "     print(row)"
   ]
  },
  {
   "cell_type": "markdown",
   "id": "98e3beb3",
   "metadata": {},
   "source": [
    "## Q9. Install the Redis server and the Python redis library (pip install redis) on your computer. Create a Redis hash called test with the fields count (1) and name ('Fester Bestertester'). Print all the fields for test."
   ]
  },
  {
   "cell_type": "markdown",
   "id": "b98184a0",
   "metadata": {},
   "source": [
    "S9."
   ]
  },
  {
   "cell_type": "code",
   "execution_count": 15,
   "id": "ab8c8fda",
   "metadata": {},
   "outputs": [
    {
     "name": "stdout",
     "output_type": "stream",
     "text": [
      "Requirement already satisfied: redis in c:\\users\\amank\\anaconda3\\lib\\site-packages (4.5.4)\n",
      "Requirement already satisfied: async-timeout>=4.0.2 in c:\\users\\amank\\anaconda3\\lib\\site-packages (from redis) (4.0.2)\n"
     ]
    }
   ],
   "source": [
    "# Installing redis library \n",
    "!pip install redis"
   ]
  },
  {
   "cell_type": "code",
   "execution_count": 1,
   "id": "3726bfe8",
   "metadata": {},
   "outputs": [
    {
     "data": {
      "text/plain": [
       "True"
      ]
     },
     "execution_count": 1,
     "metadata": {},
     "output_type": "execute_result"
    }
   ],
   "source": [
    "import redis\n",
    "#pool = redis.ConnectionPool(host=\"localhost\", port= 6379)\n",
    "#conn = redis.Redis(connection_pool=pool)\n",
    "conn = redis.Redis(host=\"localhost\", port= 6379)\n",
    "conn.ping()"
   ]
  },
  {
   "cell_type": "code",
   "execution_count": 6,
   "id": "ea8e1de5",
   "metadata": {},
   "outputs": [
    {
     "data": {
      "text/plain": [
       "{b'count': b'1', b'name': b'Fester Bestertester'}"
      ]
     },
     "execution_count": 6,
     "metadata": {},
     "output_type": "execute_result"
    }
   ],
   "source": [
    "conn.hset('test', mapping= {'count': 1, 'name': 'Fester Bestertester'})\n",
    "conn.hgetall('test')"
   ]
  },
  {
   "cell_type": "markdown",
   "id": "66434214",
   "metadata": {},
   "source": [
    "## Q10. Increment the count field of test and print it."
   ]
  },
  {
   "cell_type": "markdown",
   "id": "cab8e4de",
   "metadata": {},
   "source": [
    "S10."
   ]
  },
  {
   "cell_type": "code",
   "execution_count": 4,
   "id": "11e00611",
   "metadata": {},
   "outputs": [
    {
     "data": {
      "text/plain": [
       "3"
      ]
     },
     "execution_count": 4,
     "metadata": {},
     "output_type": "execute_result"
    }
   ],
   "source": [
    "conn.hincrby('test', 'count', 2)"
   ]
  },
  {
   "cell_type": "code",
   "execution_count": 5,
   "id": "29c0d509",
   "metadata": {},
   "outputs": [
    {
     "data": {
      "text/plain": [
       "b'3'"
      ]
     },
     "execution_count": 5,
     "metadata": {},
     "output_type": "execute_result"
    }
   ],
   "source": [
    "conn.hget('test', 'count')"
   ]
  }
 ],
 "metadata": {
  "kernelspec": {
   "display_name": "Python 3 (ipykernel)",
   "language": "python",
   "name": "python3"
  },
  "language_info": {
   "codemirror_mode": {
    "name": "ipython",
    "version": 3
   },
   "file_extension": ".py",
   "mimetype": "text/x-python",
   "name": "python",
   "nbconvert_exporter": "python",
   "pygments_lexer": "ipython3",
   "version": "3.9.7"
  }
 },
 "nbformat": 4,
 "nbformat_minor": 5
}
