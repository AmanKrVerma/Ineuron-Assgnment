{
 "cells": [
  {
   "cell_type": "markdown",
   "id": "c24e5410",
   "metadata": {},
   "source": [
    "# Assignment_16"
   ]
  },
  {
   "cell_type": "markdown",
   "id": "0981a124",
   "metadata": {},
   "source": [
    "## Q1. Create a list called years_list, starting with the year of your birth, and each year thereafter until the year of your fifth birthday. For example, if you were born in 1980. the list would be years_list = [1980, 1981, 1982, 1983, 1984, 1985]."
   ]
  },
  {
   "cell_type": "markdown",
   "id": "4c3f6978",
   "metadata": {},
   "source": [
    "S1."
   ]
  },
  {
   "cell_type": "code",
   "execution_count": 51,
   "id": "bd06efae",
   "metadata": {},
   "outputs": [
    {
     "data": {
      "text/plain": [
       "[1982, 1983, 1984, 1985, 1986, 1987]"
      ]
     },
     "execution_count": 51,
     "metadata": {},
     "output_type": "execute_result"
    }
   ],
   "source": [
    "years_list = []\n",
    "for i in range(1982,1982+6):\n",
    "    years_list.append(i) \n",
    "years_list"
   ]
  },
  {
   "cell_type": "markdown",
   "id": "79231d14",
   "metadata": {},
   "source": [
    "## Q2. In which year in years_list was your third birthday? Remember, you were 0 years of age for your first year."
   ]
  },
  {
   "cell_type": "markdown",
   "id": "989cccba",
   "metadata": {},
   "source": [
    "S2."
   ]
  },
  {
   "cell_type": "code",
   "execution_count": 58,
   "id": "ee7c5fc2",
   "metadata": {},
   "outputs": [
    {
     "data": {
      "text/plain": [
       "1985"
      ]
     },
     "execution_count": 58,
     "metadata": {},
     "output_type": "execute_result"
    }
   ],
   "source": [
    "years_list[3]"
   ]
  },
  {
   "cell_type": "markdown",
   "id": "fccbc7e3",
   "metadata": {},
   "source": [
    "## Q3. In the years list, which year were you the oldest?"
   ]
  },
  {
   "cell_type": "markdown",
   "id": "882e7dcd",
   "metadata": {},
   "source": [
    "S3."
   ]
  },
  {
   "cell_type": "code",
   "execution_count": 60,
   "id": "015d7e1a",
   "metadata": {},
   "outputs": [
    {
     "data": {
      "text/plain": [
       "1987"
      ]
     },
     "execution_count": 60,
     "metadata": {},
     "output_type": "execute_result"
    }
   ],
   "source": [
    "years_list[-1]"
   ]
  },
  {
   "cell_type": "markdown",
   "id": "353caaa1",
   "metadata": {},
   "source": [
    "## Q4. Make a list called things with these three strings as elements: \"mozzarella\", \"cinderella\", \"salmonella\"."
   ]
  },
  {
   "cell_type": "markdown",
   "id": "4bfc0a1e",
   "metadata": {},
   "source": [
    "S4."
   ]
  },
  {
   "cell_type": "code",
   "execution_count": 63,
   "id": "94f6bcb1",
   "metadata": {},
   "outputs": [],
   "source": [
    "things = [\"mozzarella\", \"cinderella\", \"salmonella\"]"
   ]
  },
  {
   "cell_type": "code",
   "execution_count": 64,
   "id": "2fba2c3a",
   "metadata": {},
   "outputs": [
    {
     "data": {
      "text/plain": [
       "['mozzarella', 'cinderella', 'salmonella']"
      ]
     },
     "execution_count": 64,
     "metadata": {},
     "output_type": "execute_result"
    }
   ],
   "source": [
    "things"
   ]
  },
  {
   "cell_type": "markdown",
   "id": "d80667dc",
   "metadata": {},
   "source": [
    "## Q5. Capitalize the element in things that refers to a person and then print the list. Did it change the element in the list?"
   ]
  },
  {
   "cell_type": "markdown",
   "id": "a483f76c",
   "metadata": {},
   "source": [
    "S5. Capitalize() will not update the list original values."
   ]
  },
  {
   "cell_type": "code",
   "execution_count": 65,
   "id": "b4bda63a",
   "metadata": {},
   "outputs": [
    {
     "name": "stdout",
     "output_type": "stream",
     "text": [
      "Mozzarella\n",
      "Cinderella\n",
      "Salmonella\n"
     ]
    },
    {
     "data": {
      "text/plain": [
       "['mozzarella', 'cinderella', 'salmonella']"
      ]
     },
     "execution_count": 65,
     "metadata": {},
     "output_type": "execute_result"
    }
   ],
   "source": [
    "for i in things:\n",
    "    print(i.capitalize())\n",
    "things   "
   ]
  },
  {
   "cell_type": "markdown",
   "id": "c211c6c1",
   "metadata": {},
   "source": [
    "## Q6. Make a surprise list with the elements \"Groucho,\" \"Chico,\" and \"Harpo.\""
   ]
  },
  {
   "cell_type": "markdown",
   "id": "cfabf057",
   "metadata": {},
   "source": [
    "S6."
   ]
  },
  {
   "cell_type": "code",
   "execution_count": 67,
   "id": "74b73d1f",
   "metadata": {},
   "outputs": [],
   "source": [
    "surprise = ['Groucho', 'Chico', 'Harpo']"
   ]
  },
  {
   "cell_type": "code",
   "execution_count": 68,
   "id": "20e4eb43",
   "metadata": {},
   "outputs": [
    {
     "data": {
      "text/plain": [
       "['Groucho', 'Chico', 'Harpo']"
      ]
     },
     "execution_count": 68,
     "metadata": {},
     "output_type": "execute_result"
    }
   ],
   "source": [
    "surprise"
   ]
  },
  {
   "cell_type": "markdown",
   "id": "e564bdec",
   "metadata": {},
   "source": [
    "## Q7. Lowercase the last element of the surprise list, reverse it, and then capitalize it."
   ]
  },
  {
   "cell_type": "markdown",
   "id": "39f2e482",
   "metadata": {},
   "source": [
    "S7."
   ]
  },
  {
   "cell_type": "code",
   "execution_count": 71,
   "id": "d8a749ce",
   "metadata": {},
   "outputs": [
    {
     "data": {
      "text/plain": [
       "'harpo'"
      ]
     },
     "execution_count": 71,
     "metadata": {},
     "output_type": "execute_result"
    }
   ],
   "source": [
    "surprise[-1] = surprise[-1].lower()\n",
    "surprise[-1]"
   ]
  },
  {
   "cell_type": "code",
   "execution_count": 72,
   "id": "67d1e7dd",
   "metadata": {},
   "outputs": [
    {
     "data": {
      "text/plain": [
       "'oprah'"
      ]
     },
     "execution_count": 72,
     "metadata": {},
     "output_type": "execute_result"
    }
   ],
   "source": [
    "surprise[-1] = surprise[-1][::-1]\n",
    "surprise[-1]"
   ]
  },
  {
   "cell_type": "code",
   "execution_count": 74,
   "id": "11147419",
   "metadata": {},
   "outputs": [
    {
     "data": {
      "text/plain": [
       "'Oprah'"
      ]
     },
     "execution_count": 74,
     "metadata": {},
     "output_type": "execute_result"
    }
   ],
   "source": [
    "surprise[-1] = surprise[-1].capitalize()\n",
    "surprise[-1]"
   ]
  },
  {
   "cell_type": "markdown",
   "id": "4662db41",
   "metadata": {},
   "source": [
    "## Q8. Make an English-to-French dictionary called e2f and print it. Here are your starter words: dog is chien, cat is chat, and walrus is morse."
   ]
  },
  {
   "cell_type": "markdown",
   "id": "05e04f2d",
   "metadata": {},
   "source": [
    "S8."
   ]
  },
  {
   "cell_type": "code",
   "execution_count": 78,
   "id": "ba13662a",
   "metadata": {},
   "outputs": [],
   "source": [
    "e2f = {'dog': 'chien', 'cat': 'chat', 'walrus': 'morse'}"
   ]
  },
  {
   "cell_type": "code",
   "execution_count": 79,
   "id": "c99c615f",
   "metadata": {},
   "outputs": [
    {
     "data": {
      "text/plain": [
       "{'dog': 'chien', 'cat': 'chat', 'walrus': 'morse'}"
      ]
     },
     "execution_count": 79,
     "metadata": {},
     "output_type": "execute_result"
    }
   ],
   "source": [
    "e2f "
   ]
  },
  {
   "cell_type": "markdown",
   "id": "8034bc75",
   "metadata": {},
   "source": [
    "## Q9. Write the French word for walrus in your three-word dictionary e2f."
   ]
  },
  {
   "cell_type": "markdown",
   "id": "a24e0d2e",
   "metadata": {},
   "source": [
    "S9."
   ]
  },
  {
   "cell_type": "code",
   "execution_count": 80,
   "id": "0c5cd64a",
   "metadata": {},
   "outputs": [
    {
     "data": {
      "text/plain": [
       "'morse'"
      ]
     },
     "execution_count": 80,
     "metadata": {},
     "output_type": "execute_result"
    }
   ],
   "source": [
    "e2f['walrus']"
   ]
  },
  {
   "cell_type": "markdown",
   "id": "8ee022a2",
   "metadata": {},
   "source": [
    "## Q10. Make a French-to-English dictionary called f2e from e2f. Use the items method."
   ]
  },
  {
   "cell_type": "markdown",
   "id": "c43c9225",
   "metadata": {},
   "source": [
    "S10."
   ]
  },
  {
   "cell_type": "code",
   "execution_count": 92,
   "id": "abe5201e",
   "metadata": {},
   "outputs": [],
   "source": [
    "f2e = {} # Empty Dictionary"
   ]
  },
  {
   "cell_type": "code",
   "execution_count": 93,
   "id": "9d5229f9",
   "metadata": {},
   "outputs": [],
   "source": [
    "for english, french in e2f.items(): # e2f.items() returns a list of (key, value) tuple pairs.\n",
    "    f2e[french] = english # is the statement where we switch the values of the dictionary. "
   ]
  },
  {
   "cell_type": "code",
   "execution_count": 94,
   "id": "0f7b156b",
   "metadata": {},
   "outputs": [
    {
     "data": {
      "text/plain": [
       "{'chien': 'dog', 'chat': 'cat', 'morse': 'walrus'}"
      ]
     },
     "execution_count": 94,
     "metadata": {},
     "output_type": "execute_result"
    }
   ],
   "source": [
    "f2e"
   ]
  },
  {
   "cell_type": "code",
   "execution_count": 96,
   "id": "3108fd9c",
   "metadata": {},
   "outputs": [],
   "source": [
    "# Or we can use"
   ]
  },
  {
   "cell_type": "code",
   "execution_count": null,
   "id": "16f9c91c",
   "metadata": {},
   "outputs": [],
   "source": [
    "f2e = dict((key,value) for value,key in e2f.items())"
   ]
  },
  {
   "cell_type": "code",
   "execution_count": 97,
   "id": "b6288cc5",
   "metadata": {},
   "outputs": [
    {
     "data": {
      "text/plain": [
       "{'chien': 'dog', 'chat': 'cat', 'morse': 'walrus'}"
      ]
     },
     "execution_count": 97,
     "metadata": {},
     "output_type": "execute_result"
    }
   ],
   "source": [
    "f2e"
   ]
  },
  {
   "cell_type": "markdown",
   "id": "6fa9e26a",
   "metadata": {},
   "source": [
    "## Q11. Print the English version of the French word chien using f2e."
   ]
  },
  {
   "cell_type": "markdown",
   "id": "121e6cf5",
   "metadata": {},
   "source": [
    "S11."
   ]
  },
  {
   "cell_type": "code",
   "execution_count": 98,
   "id": "d1bac4e0",
   "metadata": {},
   "outputs": [
    {
     "data": {
      "text/plain": [
       "'dog'"
      ]
     },
     "execution_count": 98,
     "metadata": {},
     "output_type": "execute_result"
    }
   ],
   "source": [
    "f2e['chien']"
   ]
  },
  {
   "cell_type": "markdown",
   "id": "0ee053dc",
   "metadata": {},
   "source": [
    "## Q12. Make and print a set of English words from the keys in e2f."
   ]
  },
  {
   "cell_type": "markdown",
   "id": "4641d5f6",
   "metadata": {},
   "source": [
    "S12."
   ]
  },
  {
   "cell_type": "code",
   "execution_count": 100,
   "id": "399c786c",
   "metadata": {},
   "outputs": [
    {
     "data": {
      "text/plain": [
       "{'cat', 'dog', 'walrus'}"
      ]
     },
     "execution_count": 100,
     "metadata": {},
     "output_type": "execute_result"
    }
   ],
   "source": [
    "set(e2f.keys())"
   ]
  },
  {
   "cell_type": "markdown",
   "id": "e75643cc",
   "metadata": {},
   "source": [
    "## Q13. Make a multilevel dictionary called life. Use these strings for the topmost keys: 'animals', 'plants', and 'other'. Make the 'animals' key refer to another dictionary with the keys 'cats', 'octopi', and 'emus'. Make the 'cats' key refer to a list of strings with the values 'Henri', 'Grumpy', and 'Lucy'. Make all the other keys refer to empty dictionaries."
   ]
  },
  {
   "cell_type": "markdown",
   "id": "54b4f57a",
   "metadata": {},
   "source": [
    "S13."
   ]
  },
  {
   "cell_type": "code",
   "execution_count": 109,
   "id": "d8ea14fb",
   "metadata": {},
   "outputs": [],
   "source": [
    "life = {'animals': { 'cats': ['Henri', 'Grumpy', 'Lucy'], 'octopi': {}, 'emus': {}},\n",
    "        'plants': {},\n",
    "        'other': {}}"
   ]
  },
  {
   "cell_type": "code",
   "execution_count": 110,
   "id": "0b8e6f8e",
   "metadata": {},
   "outputs": [
    {
     "data": {
      "text/plain": [
       "{'animals': {'cats': ['Henri', 'Grumpy', 'Lucy'], 'octopi': {}, 'emus': {}},\n",
       " 'plants': {},\n",
       " 'other': {}}"
      ]
     },
     "execution_count": 110,
     "metadata": {},
     "output_type": "execute_result"
    }
   ],
   "source": [
    "life"
   ]
  },
  {
   "cell_type": "markdown",
   "id": "bb05dd0e",
   "metadata": {},
   "source": [
    "## Q14. Print the top-level keys of life."
   ]
  },
  {
   "cell_type": "markdown",
   "id": "58a583da",
   "metadata": {},
   "source": [
    "S14."
   ]
  },
  {
   "cell_type": "code",
   "execution_count": 111,
   "id": "08b615c0",
   "metadata": {},
   "outputs": [
    {
     "name": "stdout",
     "output_type": "stream",
     "text": [
      "dict_keys(['animals', 'plants', 'other'])\n"
     ]
    }
   ],
   "source": [
    "print(life.keys())"
   ]
  },
  {
   "cell_type": "markdown",
   "id": "f80a76de",
   "metadata": {},
   "source": [
    "## Q15. Print the keys for life['animals']."
   ]
  },
  {
   "cell_type": "markdown",
   "id": "f0556006",
   "metadata": {},
   "source": [
    "S15."
   ]
  },
  {
   "cell_type": "code",
   "execution_count": 107,
   "id": "f31ddd59",
   "metadata": {},
   "outputs": [
    {
     "name": "stdout",
     "output_type": "stream",
     "text": [
      "dict_keys(['cats', 'octopi', 'emus'])\n"
     ]
    }
   ],
   "source": [
    "print(life['animals'].keys())"
   ]
  },
  {
   "cell_type": "markdown",
   "id": "eed93691",
   "metadata": {},
   "source": [
    "## Q16. Print the values for life['animals']['cats']"
   ]
  },
  {
   "cell_type": "markdown",
   "id": "f3c60002",
   "metadata": {},
   "source": [
    "S16."
   ]
  },
  {
   "cell_type": "code",
   "execution_count": 108,
   "id": "db332221",
   "metadata": {},
   "outputs": [
    {
     "name": "stdout",
     "output_type": "stream",
     "text": [
      "['Henri', 'Grumpy', 'Lucy']\n"
     ]
    }
   ],
   "source": [
    "print(life['animals']['cats'])"
   ]
  },
  {
   "cell_type": "code",
   "execution_count": null,
   "id": "82085909",
   "metadata": {},
   "outputs": [],
   "source": []
  }
 ],
 "metadata": {
  "kernelspec": {
   "display_name": "Python 3 (ipykernel)",
   "language": "python",
   "name": "python3"
  },
  "language_info": {
   "codemirror_mode": {
    "name": "ipython",
    "version": 3
   },
   "file_extension": ".py",
   "mimetype": "text/x-python",
   "name": "python",
   "nbconvert_exporter": "python",
   "pygments_lexer": "ipython3",
   "version": "3.9.7"
  }
 },
 "nbformat": 4,
 "nbformat_minor": 5
}
