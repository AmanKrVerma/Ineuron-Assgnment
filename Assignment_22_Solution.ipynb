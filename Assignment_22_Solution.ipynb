{
 "cells": [
  {
   "cell_type": "markdown",
   "id": "24f57f2f",
   "metadata": {},
   "source": [
    "# Assignment_22"
   ]
  },
  {
   "cell_type": "markdown",
   "id": "07359a0e",
   "metadata": {},
   "source": [
    "## Q1. What is the result of the code, and explain?"
   ]
  },
  {
   "cell_type": "raw",
   "id": "d3b9582e",
   "metadata": {},
   "source": [
    "X = 'iNeuron'\n",
    "def func():\n",
    "    print(X)\n",
    "func()"
   ]
  },
  {
   "cell_type": "markdown",
   "id": "64ff8217",
   "metadata": {},
   "source": [
    "S1."
   ]
  },
  {
   "cell_type": "code",
   "execution_count": 37,
   "id": "af5580e7",
   "metadata": {},
   "outputs": [],
   "source": [
    "X = 'iNeuron'"
   ]
  },
  {
   "cell_type": "code",
   "execution_count": 38,
   "id": "6bf405b3",
   "metadata": {},
   "outputs": [],
   "source": [
    "def func():\n",
    "    print(X)"
   ]
  },
  {
   "cell_type": "code",
   "execution_count": 39,
   "id": "b25baa07",
   "metadata": {},
   "outputs": [
    {
     "name": "stdout",
     "output_type": "stream",
     "text": [
      "iNeuron\n"
     ]
    }
   ],
   "source": [
    "func()"
   ]
  },
  {
   "cell_type": "markdown",
   "id": "f4025fbf",
   "metadata": {},
   "source": [
    "The global variables are accessible in side the functions in python. But we can not access function variable out side function. \n",
    "Since x is golbal variable we are able to print it in side the function\n",
    "solution : 'iNeuron'"
   ]
  },
  {
   "cell_type": "markdown",
   "id": "5b672aac",
   "metadata": {},
   "source": [
    "## Q2. What is the result of the code, and explain?"
   ]
  },
  {
   "cell_type": "raw",
   "id": "fda0819f",
   "metadata": {},
   "source": [
    "X = 'iNeuron'\n",
    "def func():\n",
    "    X = 'NI!'\n",
    "func()\n",
    "print(X)"
   ]
  },
  {
   "cell_type": "markdown",
   "id": "dc9ec783",
   "metadata": {},
   "source": [
    "S2."
   ]
  },
  {
   "cell_type": "code",
   "execution_count": 40,
   "id": "449cf839",
   "metadata": {},
   "outputs": [],
   "source": [
    "X = 'iNeuron'"
   ]
  },
  {
   "cell_type": "code",
   "execution_count": 41,
   "id": "f0c1594d",
   "metadata": {},
   "outputs": [],
   "source": [
    "def func():\n",
    "    X = 'NI!'"
   ]
  },
  {
   "cell_type": "code",
   "execution_count": 42,
   "id": "983b81d9",
   "metadata": {},
   "outputs": [],
   "source": [
    "func()"
   ]
  },
  {
   "cell_type": "code",
   "execution_count": 43,
   "id": "67f35fb0",
   "metadata": {},
   "outputs": [
    {
     "name": "stdout",
     "output_type": "stream",
     "text": [
      "iNeuron\n"
     ]
    }
   ],
   "source": [
    "print(X)"
   ]
  },
  {
   "cell_type": "markdown",
   "id": "4c8be06f",
   "metadata": {},
   "source": [
    "Here when func() is called it will execute the statement written inside it which only initialize value of X='NI!'(Local variable) but it doesnot return anything(None).So it comes out of the block and doesnot print anything.\n",
    "Again when print(X) is executed it prints the value of X = 'iNeuron' that was declared globally or in other words\n",
    "\n",
    "The global variables are accesable in side the functions in python. But we can not access function variable out side function. \n",
    "Since x is golbal variable we are able to print it out side of the function\n",
    "solution = 'iNeuron'\n"
   ]
  },
  {
   "cell_type": "markdown",
   "id": "14db5928",
   "metadata": {},
   "source": [
    "## Q3. What does this code print, and why?"
   ]
  },
  {
   "cell_type": "raw",
   "id": "a07c4762",
   "metadata": {},
   "source": [
    "X = 'iNeuron'\n",
    "def func():\n",
    "    X = 'NI'\n",
    "    print(X)\n",
    "func()\n",
    "print(X)"
   ]
  },
  {
   "cell_type": "markdown",
   "id": "390ec8d7",
   "metadata": {},
   "source": [
    "S3."
   ]
  },
  {
   "cell_type": "code",
   "execution_count": 44,
   "id": "44a00931",
   "metadata": {},
   "outputs": [],
   "source": [
    "X = 'iNeuron'"
   ]
  },
  {
   "cell_type": "code",
   "execution_count": 45,
   "id": "b1d26670",
   "metadata": {},
   "outputs": [],
   "source": [
    "def func():\n",
    "    X = 'NI'\n",
    "    print(X)"
   ]
  },
  {
   "cell_type": "code",
   "execution_count": 46,
   "id": "1b91f2ab",
   "metadata": {},
   "outputs": [
    {
     "name": "stdout",
     "output_type": "stream",
     "text": [
      "NI\n"
     ]
    }
   ],
   "source": [
    "func()"
   ]
  },
  {
   "cell_type": "code",
   "execution_count": 47,
   "id": "97ed3038",
   "metadata": {},
   "outputs": [
    {
     "name": "stdout",
     "output_type": "stream",
     "text": [
      "iNeuron\n"
     ]
    }
   ],
   "source": [
    "print(X)\n"
   ]
  },
  {
   "cell_type": "markdown",
   "id": "fc76b4a3",
   "metadata": {},
   "source": [
    "Here when func() is called it will execute the statement written inside it which initialize value of x='NI' and subsequently print the value of X.The scope of  X = 'NI' is within the block func().\n",
    "But when a print statement i.e print(X) is executed it prints X value as iNeuron.(X is treated as global variable)"
   ]
  },
  {
   "cell_type": "markdown",
   "id": "296a94d9",
   "metadata": {},
   "source": [
    "## Q4. What output does this code produce? Why? "
   ]
  },
  {
   "cell_type": "raw",
   "id": "6b188cd5",
   "metadata": {},
   "source": [
    "X = 'iNeuron'\n",
    "def func():\n",
    "    global X\n",
    "    X = 'NI'\n",
    "    print(X)\n",
    "func()\n",
    "print(X)"
   ]
  },
  {
   "cell_type": "markdown",
   "id": "35b08029",
   "metadata": {},
   "source": [
    "S4."
   ]
  },
  {
   "cell_type": "code",
   "execution_count": 48,
   "id": "552942e0",
   "metadata": {},
   "outputs": [],
   "source": [
    "X = 'iNeuron'"
   ]
  },
  {
   "cell_type": "code",
   "execution_count": 49,
   "id": "009e0c10",
   "metadata": {},
   "outputs": [],
   "source": [
    "def func():\n",
    "    global X\n",
    "    X = 'NI'"
   ]
  },
  {
   "cell_type": "code",
   "execution_count": 50,
   "id": "706caa3d",
   "metadata": {},
   "outputs": [],
   "source": [
    "func()"
   ]
  },
  {
   "cell_type": "code",
   "execution_count": 51,
   "id": "9d7da629",
   "metadata": {},
   "outputs": [
    {
     "name": "stdout",
     "output_type": "stream",
     "text": [
      "NI\n"
     ]
    }
   ],
   "source": [
    "print(X)"
   ]
  },
  {
   "cell_type": "markdown",
   "id": "a8395598",
   "metadata": {},
   "source": [
    "Here in func() we have declared X as global variable hence it's previous value i.e 'iNeuron' is overrided and when print(x) is executed it prints latest updated value i.e 'NI'."
   ]
  },
  {
   "cell_type": "markdown",
   "id": "9555e13c",
   "metadata": {},
   "source": [
    "## Q5. What about this code—what’s the output, and why?"
   ]
  },
  {
   "cell_type": "raw",
   "id": "fe0fd690",
   "metadata": {},
   "source": [
    "X = 'iNeuron'\n",
    "def func():\n",
    "    X = 'NI'\n",
    "def nested():\n",
    "    print(X)\n",
    "nested()"
   ]
  },
  {
   "cell_type": "markdown",
   "id": "ebee7fac",
   "metadata": {},
   "source": [
    "S5."
   ]
  },
  {
   "cell_type": "code",
   "execution_count": 62,
   "id": "443a6b87",
   "metadata": {},
   "outputs": [
    {
     "name": "stdout",
     "output_type": "stream",
     "text": [
      "iNeuron\n"
     ]
    }
   ],
   "source": [
    "X = 'iNeuron'\n",
    "def func():\n",
    "    X = 'NI'\n",
    "def nested():\n",
    "    print(X)\n",
    "nested()"
   ]
  },
  {
   "cell_type": "code",
   "execution_count": 63,
   "id": "90c631b5",
   "metadata": {},
   "outputs": [],
   "source": [
    "func()"
   ]
  },
  {
   "cell_type": "code",
   "execution_count": 64,
   "id": "8e39ca87",
   "metadata": {},
   "outputs": [
    {
     "data": {
      "text/plain": [
       "'iNeuron'"
      ]
     },
     "execution_count": 64,
     "metadata": {},
     "output_type": "execute_result"
    }
   ],
   "source": [
    "X"
   ]
  },
  {
   "cell_type": "markdown",
   "id": "7d7501e7",
   "metadata": {},
   "source": [
    "Here when nested() is called it prints X = 'iNeuron'(Global variable).\n",
    "In func(), X = 'NI' the scope of X is within func() as it is a local variable."
   ]
  },
  {
   "cell_type": "markdown",
   "id": "5d49f28f",
   "metadata": {},
   "source": [
    "## Q6. How about this code: what is its output in Python 3, and explain?"
   ]
  },
  {
   "cell_type": "raw",
   "id": "5b0b31c3",
   "metadata": {},
   "source": [
    "def func():\n",
    "    X = 'NI'\n",
    "def nested():\n",
    "    nonlocal X\n",
    "    X = 'Spam'\n",
    "nested()\n",
    "print(X)"
   ]
  },
  {
   "cell_type": "markdown",
   "id": "d6823144",
   "metadata": {},
   "source": [
    "S6."
   ]
  },
  {
   "cell_type": "code",
   "execution_count": 65,
   "id": "6e8695d8",
   "metadata": {},
   "outputs": [],
   "source": [
    "def func():\n",
    "    X = 'NI'\n",
    "    def nested():\n",
    "        nonlocal X\n",
    "        X = 'Spam'\n",
    "    nested()\n",
    "    print(X)"
   ]
  },
  {
   "cell_type": "code",
   "execution_count": 66,
   "id": "a88fdada",
   "metadata": {},
   "outputs": [
    {
     "name": "stdout",
     "output_type": "stream",
     "text": [
      "Spam\n"
     ]
    }
   ],
   "source": [
    "func()"
   ]
  },
  {
   "cell_type": "markdown",
   "id": "9912a0b4",
   "metadata": {},
   "source": [
    "Nonlocal variables are used in nested functions whose local scope is not defined. \n",
    "This means that the variable can be neither in the local nor the global scope. It print the updated value from nested function"
   ]
  }
 ],
 "metadata": {
  "kernelspec": {
   "display_name": "Python 3 (ipykernel)",
   "language": "python",
   "name": "python3"
  },
  "language_info": {
   "codemirror_mode": {
    "name": "ipython",
    "version": 3
   },
   "file_extension": ".py",
   "mimetype": "text/x-python",
   "name": "python",
   "nbconvert_exporter": "python",
   "pygments_lexer": "ipython3",
   "version": "3.9.7"
  }
 },
 "nbformat": 4,
 "nbformat_minor": 5
}
