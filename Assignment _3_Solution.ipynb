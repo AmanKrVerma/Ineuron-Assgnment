{
 "cells": [
  {
   "cell_type": "markdown",
   "id": "84e858df",
   "metadata": {},
   "source": [
    "# Assignment 3"
   ]
  },
  {
   "cell_type": "markdown",
   "id": "a3adb401",
   "metadata": {},
   "source": [
    "### Q1. Why are functions advantageous to have in your programs?"
   ]
  },
  {
   "cell_type": "markdown",
   "id": "0aafe6e3",
   "metadata": {},
   "source": [
    "S1.\n",
    "Advantages of using function:\n",
    "1. Avoid rewriting the same logic/code again and again in a program.\n",
    "2. Call functions multiple times in a program and anywhere in a program.\n",
    "3. Track a large program easily when it is divided into multiple functions.\n",
    "4. Reuse the same peice of code in multiple programs.\n",
    "5. Readability of program is increased."
   ]
  },
  {
   "cell_type": "markdown",
   "id": "3014ad2e",
   "metadata": {},
   "source": [
    "### Q2. When does the code in a function run: when it's specified or when it's called?"
   ]
  },
  {
   "cell_type": "markdown",
   "id": "5ca58c8a",
   "metadata": {},
   "source": [
    "S2. The code in a function executes when the function is called, not when the function is defined."
   ]
  },
  {
   "cell_type": "code",
   "execution_count": 11,
   "id": "235e298e",
   "metadata": {},
   "outputs": [
    {
     "name": "stdout",
     "output_type": "stream",
     "text": [
      "I am sample funtion\n"
     ]
    }
   ],
   "source": [
    "#example\n",
    "def samplefunc(): \n",
    "    print(\"I am sample funtion\")\n",
    "samplefunc() # calling a funtion"
   ]
  },
  {
   "cell_type": "markdown",
   "id": "1046e47c",
   "metadata": {},
   "source": [
    "### Q3. What statement creates a function?"
   ]
  },
  {
   "cell_type": "markdown",
   "id": "d2ca58a8",
   "metadata": {},
   "source": [
    "S3. The 'def' Statement or keyword creates a function."
   ]
  },
  {
   "cell_type": "code",
   "execution_count": 12,
   "id": "6835c0b9",
   "metadata": {},
   "outputs": [
    {
     "name": "stdout",
     "output_type": "stream",
     "text": [
      "Funtion created\n"
     ]
    }
   ],
   "source": [
    "def createfunc(): #here def keyword is used to create a funtion\n",
    "    print(\"Funtion created\")\n",
    "createfunc()"
   ]
  },
  {
   "cell_type": "markdown",
   "id": "f2c864b1",
   "metadata": {},
   "source": [
    "### Q4. What is the difference between a function and a function call?"
   ]
  },
  {
   "cell_type": "markdown",
   "id": "92bc85c2",
   "metadata": {},
   "source": [
    "S4. Functions is a block of statements that return the specific task by taking arguments \n",
    "where as calling a function means that we are using or calling a defined function by passing the value of arguments to the function to return a value."
   ]
  },
  {
   "cell_type": "markdown",
   "id": "a9ff680d",
   "metadata": {},
   "source": [
    "### Q5. How many global scopes are there in a Python program? How many local scopes?"
   ]
  },
  {
   "cell_type": "markdown",
   "id": "e9c9bf1e",
   "metadata": {},
   "source": [
    "S5.Global Scopes\n",
    "\n",
    "There is only one global scope available.The global scope is created once the program starts and gets destroyed with the termination of the python program.\n",
    "\n",
    "Local Scopes\n",
    "\n",
    "The local scope is defined for a block of code for example, function. Each function has its own local scope in which all its variables and object names are defined.\n",
    "\n",
    "The local scope of a function is loaded when the function is called by any other function. Once the function terminates, the local scope associated with it is also terminated."
   ]
  },
  {
   "cell_type": "markdown",
   "id": "1ed50931",
   "metadata": {},
   "source": [
    "### Q6. What happens to variables in a local scope when the function call returns?"
   ]
  },
  {
   "cell_type": "markdown",
   "id": "27c787da",
   "metadata": {},
   "source": [
    "S6. The local variables will have function scope.\n",
    "The memory allocated to the variables inside a funtion will be destroyed when the funtion call returns."
   ]
  },
  {
   "cell_type": "markdown",
   "id": "50e0c64b",
   "metadata": {},
   "source": [
    "### Q7.What is the concept of a return value? Is it possible to have a return value in an expression?"
   ]
  },
  {
   "cell_type": "markdown",
   "id": "f85c0484",
   "metadata": {},
   "source": [
    "S7. The return is a built-in Python statement or keyword used to end the execution of a function call and “returns” the result (value of the expression following the return keyword) to the caller.\n",
    "Yes it is possible to have a return value in an expression"
   ]
  },
  {
   "cell_type": "markdown",
   "id": "18925e4b",
   "metadata": {},
   "source": [
    "### Q8. If a function does not have a return statement, what is the return value of a call to that function?"
   ]
  },
  {
   "cell_type": "markdown",
   "id": "e687ed02",
   "metadata": {},
   "source": [
    "S8. If there is no return statement for a function, its return value is None."
   ]
  },
  {
   "cell_type": "code",
   "execution_count": 3,
   "id": "18ccafe9",
   "metadata": {},
   "outputs": [
    {
     "name": "stdout",
     "output_type": "stream",
     "text": [
      "HEllo\n",
      "None\n"
     ]
    }
   ],
   "source": [
    "#example\n",
    "def example():\n",
    "    print(\"HEllo\")\n",
    "a=example()\n",
    "print(a)"
   ]
  },
  {
   "cell_type": "markdown",
   "id": "fe25a78a",
   "metadata": {},
   "source": [
    "### Q9. How do you make a function variable refer to the global variable?"
   ]
  },
  {
   "cell_type": "markdown",
   "id": "4d0387ef",
   "metadata": {},
   "source": [
    "S9. By global keyword we can make a funtion variable refer to global variable."
   ]
  },
  {
   "cell_type": "code",
   "execution_count": 6,
   "id": "ae17b951",
   "metadata": {},
   "outputs": [
    {
     "name": "stdout",
     "output_type": "stream",
     "text": [
      "Before funtion call the value of out variable is  22\n",
      "After funtion call the value of out variable is  1994\n"
     ]
    }
   ],
   "source": [
    "#Example\n",
    "\n",
    "out=22\n",
    "def example1():\n",
    "    global out\n",
    "    out=1994\n",
    "print(\"Before funtion call the value of out variable is \", out)\n",
    "example1()\n",
    "print(\"After funtion call the value of out variable is \", out)"
   ]
  },
  {
   "cell_type": "markdown",
   "id": "adb6dace",
   "metadata": {},
   "source": [
    "### Q10. What is the data type of None?"
   ]
  },
  {
   "cell_type": "markdown",
   "id": "5a3d66a6",
   "metadata": {},
   "source": [
    "S10. The data type of None is NoneType."
   ]
  },
  {
   "cell_type": "code",
   "execution_count": 4,
   "id": "50f40094",
   "metadata": {},
   "outputs": [
    {
     "data": {
      "text/plain": [
       "NoneType"
      ]
     },
     "execution_count": 4,
     "metadata": {},
     "output_type": "execute_result"
    }
   ],
   "source": [
    "#example\n",
    "type(None)"
   ]
  },
  {
   "cell_type": "markdown",
   "id": "9ab46f9d",
   "metadata": {},
   "source": [
    "### Q11. What does the sentence import areallyourpetsnamederic do?"
   ]
  },
  {
   "cell_type": "markdown",
   "id": "305f31b2",
   "metadata": {},
   "source": [
    "S11. That import statement imports a module named areallyourpetsnamederic."
   ]
  },
  {
   "cell_type": "markdown",
   "id": "c703efd1",
   "metadata": {},
   "source": [
    "### Q12. If you had a bacon() feature in a spam module, what would you call it after importing spam?"
   ]
  },
  {
   "cell_type": "markdown",
   "id": "96c4da14",
   "metadata": {},
   "source": [
    "S12. This function can be called with spam.bacon()."
   ]
  },
  {
   "cell_type": "code",
   "execution_count": 9,
   "id": "cccc3eb9",
   "metadata": {},
   "outputs": [
    {
     "ename": "ModuleNotFoundError",
     "evalue": "No module named 'spam'",
     "output_type": "error",
     "traceback": [
      "\u001b[1;31m---------------------------------------------------------------------------\u001b[0m",
      "\u001b[1;31mModuleNotFoundError\u001b[0m                       Traceback (most recent call last)",
      "\u001b[1;32m~\\AppData\\Local\\Temp/ipykernel_140/3086571347.py\u001b[0m in \u001b[0;36m<module>\u001b[1;34m\u001b[0m\n\u001b[1;32m----> 1\u001b[1;33m \u001b[1;32mimport\u001b[0m \u001b[0mspam\u001b[0m\u001b[1;33m\u001b[0m\u001b[1;33m\u001b[0m\u001b[0m\n\u001b[0m\u001b[0;32m      2\u001b[0m \u001b[1;33m\u001b[0m\u001b[0m\n\u001b[0;32m      3\u001b[0m \u001b[0mspam\u001b[0m\u001b[1;33m.\u001b[0m\u001b[0mbacon\u001b[0m\u001b[1;33m(\u001b[0m\u001b[1;33m)\u001b[0m\u001b[1;33m\u001b[0m\u001b[1;33m\u001b[0m\u001b[0m\n",
      "\u001b[1;31mModuleNotFoundError\u001b[0m: No module named 'spam'"
     ]
    }
   ],
   "source": [
    "import spam\n",
    "\n",
    "spam.bacon()"
   ]
  },
  {
   "cell_type": "markdown",
   "id": "5438374d",
   "metadata": {},
   "source": [
    "### Q13. What can you do to save a programme from crashing if it encounters an error?"
   ]
  },
  {
   "cell_type": "markdown",
   "id": "ee818e40",
   "metadata": {},
   "source": [
    "S13. Using Exception handling\n",
    "1. Try except statements\n",
    "2. Raising exceptions\n",
    "3. User defined exceptions"
   ]
  },
  {
   "cell_type": "markdown",
   "id": "ba7e876d",
   "metadata": {},
   "source": [
    "### Q14. What is the purpose of the try clause? What is the purpose of the except clause?"
   ]
  },
  {
   "cell_type": "markdown",
   "id": "b1b95692",
   "metadata": {},
   "source": [
    "S14. The purpose of try clause is to inlcude a block of code which can generates errors if error occurs the control will be passed to except block which can save the program from getting errors.\n",
    "\n",
    "The purpose of except clause is to handle the errors or exceptions which are generated in try block."
   ]
  },
  {
   "cell_type": "code",
   "execution_count": null,
   "id": "0d8dc4eb",
   "metadata": {},
   "outputs": [],
   "source": []
  }
 ],
 "metadata": {
  "kernelspec": {
   "display_name": "Python 3 (ipykernel)",
   "language": "python",
   "name": "python3"
  },
  "language_info": {
   "codemirror_mode": {
    "name": "ipython",
    "version": 3
   },
   "file_extension": ".py",
   "mimetype": "text/x-python",
   "name": "python",
   "nbconvert_exporter": "python",
   "pygments_lexer": "ipython3",
   "version": "3.9.7"
  }
 },
 "nbformat": 4,
 "nbformat_minor": 5
}
