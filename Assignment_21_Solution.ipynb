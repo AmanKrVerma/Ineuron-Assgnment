{
 "cells": [
  {
   "cell_type": "markdown",
   "id": "84654ae3",
   "metadata": {},
   "source": [
    "# Assignment_21"
   ]
  },
  {
   "cell_type": "markdown",
   "id": "8420384e",
   "metadata": {},
   "source": [
    "## Q1. Add the current date to the text file today.txt as a string."
   ]
  },
  {
   "cell_type": "markdown",
   "id": "25c10522",
   "metadata": {},
   "source": [
    "S1."
   ]
  },
  {
   "cell_type": "code",
   "execution_count": 1,
   "id": "ba668526",
   "metadata": {},
   "outputs": [
    {
     "data": {
      "text/plain": [
       "datetime.date(2023, 6, 26)"
      ]
     },
     "execution_count": 1,
     "metadata": {},
     "output_type": "execute_result"
    }
   ],
   "source": [
    "import datetime \n",
    "from datetime import date\n",
    "now = date.today()\n",
    "now"
   ]
  },
  {
   "cell_type": "code",
   "execution_count": 2,
   "id": "e1b98898",
   "metadata": {},
   "outputs": [
    {
     "data": {
      "text/plain": [
       "'2023-06-26'"
      ]
     },
     "execution_count": 2,
     "metadata": {},
     "output_type": "execute_result"
    }
   ],
   "source": [
    "cur_date = now.isoformat()\n",
    "cur_date"
   ]
  },
  {
   "cell_type": "code",
   "execution_count": 3,
   "id": "735427c8",
   "metadata": {},
   "outputs": [],
   "source": [
    "with open('today', 'wt') as output:\n",
    "    output.write(cur_date)"
   ]
  },
  {
   "cell_type": "markdown",
   "id": "7f1f1b96",
   "metadata": {},
   "source": [
    "## Q2. Read the text file today.txt into the string today_string"
   ]
  },
  {
   "cell_type": "markdown",
   "id": "29e8249a",
   "metadata": {},
   "source": [
    "S2."
   ]
  },
  {
   "cell_type": "code",
   "execution_count": 4,
   "id": "0e2130f7",
   "metadata": {},
   "outputs": [
    {
     "data": {
      "text/plain": [
       "'2023-06-26'"
      ]
     },
     "execution_count": 4,
     "metadata": {},
     "output_type": "execute_result"
    }
   ],
   "source": [
    "with open('today', 'rt') as input:\n",
    "    today_string = input.read()\n",
    "today_string"
   ]
  },
  {
   "cell_type": "markdown",
   "id": "0acbfc6a",
   "metadata": {},
   "source": [
    "## Q3. Parse the date from today_string."
   ]
  },
  {
   "cell_type": "markdown",
   "id": "f7eef818",
   "metadata": {},
   "source": [
    "S3."
   ]
  },
  {
   "cell_type": "code",
   "execution_count": 7,
   "id": "29844b4d",
   "metadata": {},
   "outputs": [
    {
     "data": {
      "text/plain": [
       "datetime.datetime(2023, 6, 26, 0, 0)"
      ]
     },
     "execution_count": 7,
     "metadata": {},
     "output_type": "execute_result"
    }
   ],
   "source": [
    "from datetime import datetime\n",
    "format = '%Y-%m-%d'\n",
    "datetime.strptime(today_string,format)"
   ]
  },
  {
   "cell_type": "markdown",
   "id": "058f6347",
   "metadata": {},
   "source": [
    "## Q4. List the files in your current directory"
   ]
  },
  {
   "cell_type": "markdown",
   "id": "eecd7654",
   "metadata": {},
   "source": [
    "S4."
   ]
  },
  {
   "cell_type": "code",
   "execution_count": 8,
   "id": "0d892c93",
   "metadata": {},
   "outputs": [],
   "source": [
    "import os"
   ]
  },
  {
   "cell_type": "code",
   "execution_count": 9,
   "id": "ae9b2e25",
   "metadata": {},
   "outputs": [
    {
     "data": {
      "text/plain": [
       "['.ipynb_checkpoints',\n",
       " 'Abstract_mordified.docx',\n",
       " 'Assignment_1.docx',\n",
       " 'Assignment_10.docx',\n",
       " 'Assignment_10_Solution.ipynb',\n",
       " 'Assignment_11.docx',\n",
       " 'Assignment_11_Solution.ipynb',\n",
       " 'Assignment_12.docx',\n",
       " 'Assignment_12_Solution.ipynb',\n",
       " 'Assignment_13.docx',\n",
       " 'Assignment_13_Solution.ipynb',\n",
       " 'Assignment_14.docx',\n",
       " 'Assignment_14_Solution.ipynb',\n",
       " 'Assignment_15.docx',\n",
       " 'Assignment_15_Solution.ipynb',\n",
       " 'Assignment_16.docx',\n",
       " 'Assignment_16_Solution.ipynb',\n",
       " 'Assignment_17.docx',\n",
       " 'Assignment_17_Solution.ipynb',\n",
       " 'Assignment_18.docx',\n",
       " 'Assignment_18_Solution.ipynb',\n",
       " 'Assignment_19.docx',\n",
       " 'Assignment_19_Solution.ipynb',\n",
       " 'Assignment_1_Solution.ipynb',\n",
       " 'Assignment_2.docx',\n",
       " 'Assignment_20.docx',\n",
       " 'Assignment_20_Solution.ipynb',\n",
       " 'Assignment_21.docx',\n",
       " 'Assignment_21_Solution.ipynb',\n",
       " 'Assignment_22.docx',\n",
       " 'Assignment_23.docx',\n",
       " 'Assignment_24.docx',\n",
       " 'Assignment_25.docx',\n",
       " 'Assignment_2_Solution.ipynb',\n",
       " 'Assignment_3.docx',\n",
       " 'Assignment_3_Solution.ipynb',\n",
       " 'Assignment_4.docx',\n",
       " 'Assignment_4_Solution.ipynb',\n",
       " 'Assignment_5.docx',\n",
       " 'Assignment_5_Solution.ipynb',\n",
       " 'Assignment_6.docx',\n",
       " 'Assignment_6_Solution.ipynb',\n",
       " 'Assignment_7.docx',\n",
       " 'Assignment_7_Solution.ipynb',\n",
       " 'Assignment_8.docx',\n",
       " 'Assignment_8_Solution.ipynb',\n",
       " 'Assignment_9.docx',\n",
       " 'Assignment_9_Solution.ipynb',\n",
       " 'books.csv',\n",
       " 'books.db',\n",
       " 'crop_img_jpg_8.jpg',\n",
       " 'cro_jpg_8.jpg',\n",
       " 'output.csv',\n",
       " 'test.txt',\n",
       " 'Testdata.csv',\n",
       " 'Testdata1.csv',\n",
       " 'Testdata2.csv',\n",
       " 'today',\n",
       " '~$signment_21.docx',\n",
       " '~$signment_5.docx']"
      ]
     },
     "execution_count": 9,
     "metadata": {},
     "output_type": "execute_result"
    }
   ],
   "source": [
    " os.listdir('.')"
   ]
  },
  {
   "cell_type": "markdown",
   "id": "6495e0fa",
   "metadata": {},
   "source": [
    "## Q5. Create a list of all of the files in your parent directory (minimum five files should be available)."
   ]
  },
  {
   "cell_type": "markdown",
   "id": "d3b78929",
   "metadata": {},
   "source": [
    "S5."
   ]
  },
  {
   "cell_type": "code",
   "execution_count": 10,
   "id": "4c976cd6",
   "metadata": {},
   "outputs": [],
   "source": [
    "import os"
   ]
  },
  {
   "cell_type": "code",
   "execution_count": 14,
   "id": "99870845",
   "metadata": {},
   "outputs": [
    {
     "data": {
      "text/plain": [
       "['Completed Basic Assignment INeuron 1-25',\n",
       " 'Data Science job Placemaent Assignment.pdf',\n",
       " 'I_Neuron_ Internship Project',\n",
       " 'Pre placement  Training',\n",
       " 'Programming Assignment INeuron 1-25',\n",
       " 'Python-Basic-Assignment Reference 1',\n",
       " 'Python-Basic-Assignment Reference 2']"
      ]
     },
     "execution_count": 14,
     "metadata": {},
     "output_type": "execute_result"
    }
   ],
   "source": [
    " os.listdir('..')"
   ]
  },
  {
   "cell_type": "markdown",
   "id": "30b4cc92",
   "metadata": {},
   "source": [
    "## Q6. Use multiprocessing to create three separate processes. Make each one wait a random number of seconds between one and five, print the current time, and then exit."
   ]
  },
  {
   "cell_type": "code",
   "execution_count": 32,
   "id": "07ba480d",
   "metadata": {},
   "outputs": [],
   "source": [
    "import multiprocessing\n",
    "\n",
    "def now(seconds):\n",
    "    from datetime import datetime\n",
    "    from time import sleep\n",
    "    sleep(seconds)\n",
    "    print('wait', seconds, 'seconds, time is', datetime.utcnow())\n",
    "\n",
    "if __name__ == '__main__':\n",
    "    import random\n",
    "    for n in range(3):\n",
    "        seconds = random.random()\n",
    "        proc = multiprocessing.Process(target=now, args=(seconds,))\n",
    "        proc.start()\n",
    "        #proc.join()"
   ]
  },
  {
   "cell_type": "code",
   "execution_count": null,
   "id": "40b8b58b",
   "metadata": {},
   "outputs": [],
   "source": [
    "wait 0.9978149040320552 seconds, time is 2023-06-26 19:38:19.655682\n",
    "wait 0.609237336282071 seconds, time is 2023-06-26 19:38:20.342690\n",
    "wait 0.5223983145588155 seconds, time is 2023-06-26 19:38:20.935157"
   ]
  },
  {
   "cell_type": "markdown",
   "id": "10cbf2bf",
   "metadata": {},
   "source": [
    "## Q7. Create a date object of your day of birth."
   ]
  },
  {
   "cell_type": "markdown",
   "id": "cb315ccd",
   "metadata": {},
   "source": [
    "S7."
   ]
  },
  {
   "cell_type": "code",
   "execution_count": 34,
   "id": "ea77f117",
   "metadata": {},
   "outputs": [],
   "source": [
    "my_day = date(1994, 1, 22)"
   ]
  },
  {
   "cell_type": "code",
   "execution_count": 35,
   "id": "24c3d6f1",
   "metadata": {},
   "outputs": [
    {
     "data": {
      "text/plain": [
       "datetime.date(1994, 1, 22)"
      ]
     },
     "execution_count": 35,
     "metadata": {},
     "output_type": "execute_result"
    }
   ],
   "source": [
    "my_day"
   ]
  },
  {
   "cell_type": "markdown",
   "id": "c1488b5d",
   "metadata": {},
   "source": [
    "## Q8. What day of the week was your day of birth?"
   ]
  },
  {
   "cell_type": "markdown",
   "id": "a50d87ae",
   "metadata": {},
   "source": [
    "S8."
   ]
  },
  {
   "cell_type": "code",
   "execution_count": 37,
   "id": "3a420cc5",
   "metadata": {},
   "outputs": [
    {
     "data": {
      "text/plain": [
       "5"
      ]
     },
     "execution_count": 37,
     "metadata": {},
     "output_type": "execute_result"
    }
   ],
   "source": [
    "my_day.weekday()"
   ]
  },
  {
   "cell_type": "code",
   "execution_count": 38,
   "id": "b5dc607c",
   "metadata": {},
   "outputs": [
    {
     "data": {
      "text/plain": [
       "6"
      ]
     },
     "execution_count": 38,
     "metadata": {},
     "output_type": "execute_result"
    }
   ],
   "source": [
    "my_day.isoweekday()"
   ]
  },
  {
   "cell_type": "markdown",
   "id": "0596ccc8",
   "metadata": {},
   "source": [
    "With weekday(), Monday is 0 and Sunday is 6. With isoweekday(), Monday is 1 and Sunday is 7. Therefore, this date was a Saturday."
   ]
  },
  {
   "cell_type": "markdown",
   "id": "388995ff",
   "metadata": {},
   "source": [
    "## Q9. When will you be (or when were you) 10,000 days old?"
   ]
  },
  {
   "cell_type": "markdown",
   "id": "75ed25ce",
   "metadata": {},
   "source": [
    "S9."
   ]
  },
  {
   "cell_type": "code",
   "execution_count": 39,
   "id": "ee4bef48",
   "metadata": {},
   "outputs": [],
   "source": [
    "from datetime import timedelta"
   ]
  },
  {
   "cell_type": "code",
   "execution_count": 40,
   "id": "0e5f5d71",
   "metadata": {},
   "outputs": [],
   "source": [
    "party_day = my_day + timedelta(days=10000)"
   ]
  },
  {
   "cell_type": "code",
   "execution_count": 41,
   "id": "560664e9",
   "metadata": {},
   "outputs": [
    {
     "data": {
      "text/plain": [
       "datetime.date(2021, 6, 9)"
      ]
     },
     "execution_count": 41,
     "metadata": {},
     "output_type": "execute_result"
    }
   ],
   "source": [
    "party_day"
   ]
  }
 ],
 "metadata": {
  "kernelspec": {
   "display_name": "Python 3 (ipykernel)",
   "language": "python",
   "name": "python3"
  },
  "language_info": {
   "codemirror_mode": {
    "name": "ipython",
    "version": 3
   },
   "file_extension": ".py",
   "mimetype": "text/x-python",
   "name": "python",
   "nbconvert_exporter": "python",
   "pygments_lexer": "ipython3",
   "version": "3.9.7"
  }
 },
 "nbformat": 4,
 "nbformat_minor": 5
}
