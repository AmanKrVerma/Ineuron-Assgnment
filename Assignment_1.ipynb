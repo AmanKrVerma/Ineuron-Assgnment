{
 "cells": [
  {
   "cell_type": "markdown",
   "id": "d31cc013",
   "metadata": {},
   "source": [
    "Assignment 1"
   ]
  },
  {
   "cell_type": "markdown",
   "id": "8e7b4726",
   "metadata": {},
   "source": [
    "Solution 1"
   ]
  },
  {
   "cell_type": "markdown",
   "id": "9ffc983f",
   "metadata": {},
   "source": [
    "Values:'hello',-87.8,6\n",
    "Expression:*,-,/,+"
   ]
  },
  {
   "cell_type": "markdown",
   "id": "9d4c1718",
   "metadata": {},
   "source": [
    "Solution 2"
   ]
  },
  {
   "cell_type": "markdown",
   "id": "9faa632b",
   "metadata": {},
   "source": [
    "A variable is a reserved memory location to store values. In other words, a variable in a python program gives data to the computer for processing. \n",
    "String is a collection of alphabets, words or other characters.Python has a built-in string class named str.\n",
    "The main difference between variable & string is that string is one of the data types in python that a variable can hold."
   ]
  },
  {
   "cell_type": "markdown",
   "id": "74d83b97",
   "metadata": {},
   "source": [
    "solution 3"
   ]
  },
  {
   "cell_type": "markdown",
   "id": "3f56675c",
   "metadata": {},
   "source": [
    "1.Numeric data type represent the data which has numeric value. Numeric value can be integer, floating number or even complex numbers. \n",
    "These values are defined as int, float and complex class in Python.\n",
    "2.Sequence is the ordered collection of similar or different data types. Sequences allows to store multiple values in an organized and efficient fashion.\n",
    "Types of sequence in Python are String,List,Tuple.\n",
    "3. Set is an unordered collection of data type that is iterable, mutable and has no duplicate elements. \n",
    "The order of elements in a set is undefined though it may consist of various elements."
   ]
  },
  {
   "cell_type": "markdown",
   "id": "da07fec4",
   "metadata": {},
   "source": [
    "Solution 4"
   ]
  },
  {
   "cell_type": "markdown",
   "id": "c886d3d7",
   "metadata": {},
   "source": [
    "An expression is a combination of operators, constants and variables. An expression may consist of one or more operands, and zero or more operators to produce a value.\n",
    "Expression are used to evaluate the value of expession.  "
   ]
  },
  {
   "cell_type": "markdown",
   "id": "485d8552",
   "metadata": {},
   "source": [
    "Solution 5"
   ]
  },
  {
   "cell_type": "markdown",
   "id": "06c6671b",
   "metadata": {},
   "source": [
    "A statement is an instruction that the Python interpreter can execute. Statement don’t produce any result where as an expression is a combination of values, variables, operators, and calls to functions. Python interpreter evaluates expression and displays the result."
   ]
  },
  {
   "cell_type": "markdown",
   "id": "a6dddd06",
   "metadata": {},
   "source": [
    "Solution 6"
   ]
  },
  {
   "cell_type": "code",
   "execution_count": 6,
   "id": "3bfe725d",
   "metadata": {},
   "outputs": [
    {
     "data": {
      "text/plain": [
       "23"
      ]
     },
     "execution_count": 6,
     "metadata": {},
     "output_type": "execute_result"
    }
   ],
   "source": [
    "bacon=22\n",
    "bacon+1"
   ]
  },
  {
   "cell_type": "markdown",
   "id": "6f437f78",
   "metadata": {},
   "source": [
    "Solution 7"
   ]
  },
  {
   "cell_type": "code",
   "execution_count": 7,
   "id": "5c018b83",
   "metadata": {
    "scrolled": true
   },
   "outputs": [
    {
     "data": {
      "text/plain": [
       "'spamspamspam'"
      ]
     },
     "execution_count": 7,
     "metadata": {},
     "output_type": "execute_result"
    }
   ],
   "source": [
    "'spam'+'spamspam'"
   ]
  },
  {
   "cell_type": "code",
   "execution_count": 8,
   "id": "60e0139d",
   "metadata": {},
   "outputs": [
    {
     "data": {
      "text/plain": [
       "'spamspamspam'"
      ]
     },
     "execution_count": 8,
     "metadata": {},
     "output_type": "execute_result"
    }
   ],
   "source": [
    "'spam'*3"
   ]
  },
  {
   "cell_type": "markdown",
   "id": "7dab4497",
   "metadata": {},
   "source": [
    "Solution 8"
   ]
  },
  {
   "cell_type": "markdown",
   "id": "d66966f0",
   "metadata": {},
   "source": [
    "Variable names in Python can be any length and can consist of uppercase and lowercase letters (A-Z, a-z), digits (0-9), and the underscore character (_).An additional restriction is that, although a variable name can contain digits, the first character of a variable name cannot be a digit that is why eggs is a valid name & 100 is invalid name."
   ]
  },
  {
   "cell_type": "markdown",
   "id": "6fad3e96",
   "metadata": {},
   "source": [
    "Solution 9"
   ]
  },
  {
   "cell_type": "markdown",
   "id": "6085ac2f",
   "metadata": {},
   "source": [
    "float() function will convert integers to floats. To use this function, add an integer inside of the parentheses.\n",
    "The int() function works similarly to the float() function you can add a floating-point number inside of the parentheses to convert it to an integer.\n",
    "To convert numbers to strings we can use the str() function. We’ll pass either a number or a variable into the parentheses of the function and then that numeric value will be converted into a string value."
   ]
  },
  {
   "cell_type": "markdown",
   "id": "6973cb36",
   "metadata": {},
   "source": [
    "Solution 10"
   ]
  },
  {
   "cell_type": "code",
   "execution_count": 16,
   "id": "ec667c4e",
   "metadata": {},
   "outputs": [
    {
     "ename": "TypeError",
     "evalue": "can only concatenate str (not \"int\") to str",
     "output_type": "error",
     "traceback": [
      "\u001b[1;31m---------------------------------------------------------------------------\u001b[0m",
      "\u001b[1;31mTypeError\u001b[0m                                 Traceback (most recent call last)",
      "\u001b[1;32m~\\AppData\\Local\\Temp/ipykernel_15772/3637741833.py\u001b[0m in \u001b[0;36m<module>\u001b[1;34m\u001b[0m\n\u001b[1;32m----> 1\u001b[1;33m \u001b[1;34m'I have eaten '\u001b[0m\u001b[1;33m+\u001b[0m\u001b[1;36m99\u001b[0m\u001b[1;33m+\u001b[0m\u001b[1;34m' burritos.'\u001b[0m\u001b[1;33m\u001b[0m\u001b[1;33m\u001b[0m\u001b[0m\n\u001b[0m",
      "\u001b[1;31mTypeError\u001b[0m: can only concatenate str (not \"int\") to str"
     ]
    }
   ],
   "source": [
    "'I have eaten '+99+' burritos.'"
   ]
  },
  {
   "cell_type": "markdown",
   "id": "675325d2",
   "metadata": {},
   "source": [
    "As we can't concatenate two different datatype. If we have to do that then we have to do typecasting.\n",
    "Here in the given question we are trying to concatenate integer with string thats why it is throwing error."
   ]
  },
  {
   "cell_type": "code",
   "execution_count": 17,
   "id": "ab0b09f6",
   "metadata": {},
   "outputs": [
    {
     "data": {
      "text/plain": [
       "'I have eaten 99 burritos.'"
      ]
     },
     "execution_count": 17,
     "metadata": {},
     "output_type": "execute_result"
    }
   ],
   "source": [
    "'I have eaten '+ str(99) +' burritos.'"
   ]
  },
  {
   "cell_type": "markdown",
   "id": "cc9ca3c8",
   "metadata": {},
   "source": [
    "Thank you"
   ]
  }
 ],
 "metadata": {
  "kernelspec": {
   "display_name": "Python 3 (ipykernel)",
   "language": "python",
   "name": "python3"
  },
  "language_info": {
   "codemirror_mode": {
    "name": "ipython",
    "version": 3
   },
   "file_extension": ".py",
   "mimetype": "text/x-python",
   "name": "python",
   "nbconvert_exporter": "python",
   "pygments_lexer": "ipython3",
   "version": "3.9.7"
  }
 },
 "nbformat": 4,
 "nbformat_minor": 5
}
