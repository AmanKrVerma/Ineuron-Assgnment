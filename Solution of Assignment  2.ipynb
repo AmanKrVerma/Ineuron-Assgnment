{
 "cells": [
  {
   "cell_type": "markdown",
   "id": "699d197b",
   "metadata": {},
   "source": [
    "# Assignment 2"
   ]
  },
  {
   "cell_type": "markdown",
   "id": "e966e13e",
   "metadata": {},
   "source": [
    "Solution 1"
   ]
  },
  {
   "cell_type": "code",
   "execution_count": null,
   "id": "e56f6ef7",
   "metadata": {},
   "outputs": [],
   "source": [
    "Booleans represent one of two values: True or False. we can get the answer of any expression that is evluated for comparision as, True or False."
   ]
  },
  {
   "cell_type": "markdown",
   "id": "1a47d229",
   "metadata": {},
   "source": [
    "solution 2"
   ]
  },
  {
   "cell_type": "code",
   "execution_count": null,
   "id": "9f56ca5f",
   "metadata": {},
   "outputs": [],
   "source": [
    "Boolean operators are those that take Boolean inputs and return Boolean results.\n",
    "Three types of boolean operator are and ,or & not.\n",
    "1. and- It evaluates to False unless both inputs are True.\n",
    "2. or- The value of the or operator is True unless both of its inputs are False.\n",
    "3. not- It takes one argument and returns the opposite result: False for True and True for False. "
   ]
  },
  {
   "cell_type": "markdown",
   "id": "8005ecce",
   "metadata": {},
   "source": [
    "Solution 3"
   ]
  },
  {
   "cell_type": "code",
   "execution_count": null,
   "id": "a4eb4752",
   "metadata": {},
   "outputs": [],
   "source": [
    "Truth table for and operator\n",
    "A       B       A and B\n",
    "True\tTrue\tTrue\n",
    "False\tTrue\tFalse\n",
    "True\tFalse\tFalse\n",
    "False\tFalse\tFalse\n",
    "\n",
    "Truth table for or operator\n",
    "A\t    B\t    A or B\n",
    "True\tTrue\tTrue\n",
    "False\tTrue\tTrue\n",
    "True\tFalse\tTrue\n",
    "False\tFalse\tFalse\n",
    "\n",
    "Truth table for not operator\n",
    "A\t    not A\n",
    "True\tFalse\n",
    "False\tTrue"
   ]
  },
  {
   "cell_type": "markdown",
   "id": "88365e2c",
   "metadata": {},
   "source": [
    "Solution 4"
   ]
  },
  {
   "cell_type": "code",
   "execution_count": 3,
   "id": "2fad4465",
   "metadata": {},
   "outputs": [
    {
     "data": {
      "text/plain": [
       "False"
      ]
     },
     "execution_count": 3,
     "metadata": {},
     "output_type": "execute_result"
    }
   ],
   "source": [
    "(5 > 4) and (3 == 5)"
   ]
  },
  {
   "cell_type": "code",
   "execution_count": 4,
   "id": "c696bc2c",
   "metadata": {},
   "outputs": [
    {
     "data": {
      "text/plain": [
       "False"
      ]
     },
     "execution_count": 4,
     "metadata": {},
     "output_type": "execute_result"
    }
   ],
   "source": [
    "not (5 > 4)"
   ]
  },
  {
   "cell_type": "code",
   "execution_count": 5,
   "id": "632b79ff",
   "metadata": {},
   "outputs": [
    {
     "data": {
      "text/plain": [
       "True"
      ]
     },
     "execution_count": 5,
     "metadata": {},
     "output_type": "execute_result"
    }
   ],
   "source": [
    "(5 > 4) or (3 == 5)"
   ]
  },
  {
   "cell_type": "code",
   "execution_count": 6,
   "id": "0c2f4286",
   "metadata": {},
   "outputs": [
    {
     "data": {
      "text/plain": [
       "False"
      ]
     },
     "execution_count": 6,
     "metadata": {},
     "output_type": "execute_result"
    }
   ],
   "source": [
    "not ((5 > 4) or (3 == 5))"
   ]
  },
  {
   "cell_type": "code",
   "execution_count": 7,
   "id": "65348f52",
   "metadata": {},
   "outputs": [
    {
     "data": {
      "text/plain": [
       "False"
      ]
     },
     "execution_count": 7,
     "metadata": {},
     "output_type": "execute_result"
    }
   ],
   "source": [
    "(True and True) and (True == False)"
   ]
  },
  {
   "cell_type": "code",
   "execution_count": 8,
   "id": "fd075a5a",
   "metadata": {},
   "outputs": [
    {
     "data": {
      "text/plain": [
       "True"
      ]
     },
     "execution_count": 8,
     "metadata": {},
     "output_type": "execute_result"
    }
   ],
   "source": [
    "(not False) or (not True)"
   ]
  },
  {
   "cell_type": "markdown",
   "id": "b9ab764d",
   "metadata": {},
   "source": [
    "Solution 5"
   ]
  },
  {
   "cell_type": "code",
   "execution_count": null,
   "id": "970cd11f",
   "metadata": {},
   "outputs": [],
   "source": [
    "comparision operator are used to check whether a relationship holds between two objects.\n",
    "1.The equality operator  or Equal to(==): True if both operands are equal.\n",
    "2.The inequality operator or not equal to (!=): True if operands are not equal.\n",
    "3.Less than(<): True if left operand is less than the right.\n",
    "4.Greater than(>): True if left operand is greater than the right.\n",
    "5.Less than or equal to(<=): True if left operand is less than or equal to the right.\n",
    "6.Greater than or equal to(>=): True if left operand is greater than or equal to the right."
   ]
  },
  {
   "cell_type": "markdown",
   "id": "318a7a83",
   "metadata": {},
   "source": [
    "Solution 6"
   ]
  },
  {
   "cell_type": "code",
   "execution_count": null,
   "id": "6210379a",
   "metadata": {},
   "outputs": [],
   "source": [
    "Assignment operators are used in Python to assign values to variables.\n",
    "a = 5 is a simple assignment operator that assigns the value 5 on the right to the variable a on the left.\n",
    "The equality operator  or Equal to(==) checks for equality between both operands and returns true if so.\n",
    "for example suppose x = 10, y = 12 if we want to compare x and y for equality then we use equal to operator(==)\n",
    "x==y returns False i.e. they are not equal. "
   ]
  },
  {
   "cell_type": "markdown",
   "id": "0ced7234",
   "metadata": {},
   "source": [
    "Solution 7"
   ]
  },
  {
   "cell_type": "code",
   "execution_count": 30,
   "id": "a9e3b0ff",
   "metadata": {},
   "outputs": [
    {
     "name": "stdout",
     "output_type": "stream",
     "text": [
      "1\n",
      "ham\n",
      "spam\n",
      "spam\n"
     ]
    }
   ],
   "source": [
    "# First block\n",
    "spam = 0\n",
    "# Second block\n",
    "if spam == 10:\n",
    "    print('eggs')\n",
    "# Third block\n",
    "if spam > 5:\n",
    "    print('bacon')\n",
    "else:\n",
    "    print('ham')\n",
    "    print('spam')\n",
    "    print('spam')\n",
    "#In the above code first block is assignment block, second block is if block and\n",
    "#third block is if else block. "
   ]
  },
  {
   "cell_type": "markdown",
   "id": "2a4c5dac",
   "metadata": {},
   "source": [
    "Solution 8"
   ]
  },
  {
   "cell_type": "code",
   "execution_count": 4,
   "id": "a2afab74",
   "metadata": {},
   "outputs": [
    {
     "name": "stdout",
     "output_type": "stream",
     "text": [
      "5\n",
      "Greetings!\n"
     ]
    }
   ],
   "source": [
    "spam = int(input())\n",
    "if spam == 1:\n",
    "    print(\"Hello\")\n",
    "elif spam == 2:\n",
    "    print(\"Howdy\")\n",
    "else:\n",
    "    print(\"Greetings!\")"
   ]
  },
  {
   "cell_type": "markdown",
   "id": "2103e7ca",
   "metadata": {},
   "source": [
    "Solution 9"
   ]
  },
  {
   "cell_type": "code",
   "execution_count": null,
   "id": "908d7e8b",
   "metadata": {},
   "outputs": [],
   "source": [
    "An infinite loop is a loop that runs indefinitely and it only stops with external intervention or when a break statement is found.\n",
    "You can stop an infinite loop with CTRL + C ."
   ]
  },
  {
   "cell_type": "markdown",
   "id": "ecd5f576",
   "metadata": {},
   "source": [
    "Solution 10"
   ]
  },
  {
   "cell_type": "code",
   "execution_count": null,
   "id": "6900040b",
   "metadata": {},
   "outputs": [],
   "source": [
    "The break statement terminates the loop containing it. \n",
    "Control of the program flows to the statement immediately after the body of the loop.\n",
    "where as the continue statement is used to skip the rest of the code inside a loop for the current iteration only.\n",
    "Loop does not terminate but continues on with the next iteration."
   ]
  },
  {
   "cell_type": "markdown",
   "id": "598e93d3",
   "metadata": {},
   "source": [
    "Solution 11"
   ]
  },
  {
   "cell_type": "code",
   "execution_count": 10,
   "id": "d58c57af",
   "metadata": {},
   "outputs": [
    {
     "name": "stdout",
     "output_type": "stream",
     "text": [
      "0 1 2 3 4 5 6 7 8 9 \n",
      "\n",
      "0 1 2 3 4 5 6 7 8 9 \n",
      "\n",
      "0 1 2 3 4 5 6 7 8 9 \n",
      "\n"
     ]
    }
   ],
   "source": [
    "# range(stop)\n",
    "# When user call range() with one argument, user will get a series of numbers that starts at 0 and includes every whole number up to,\n",
    "# but not including, the number that user have provided as the stop.\n",
    "\n",
    "for i in range(10):\n",
    "    print(i, end=\" \")\n",
    "print(\"\\n\")\n",
    "# range(start, stop)\n",
    "# When user call range() with two arguments, user get to decide not only where the series of numbers stops but also where it starts, \n",
    "# so user don’t have to start at 0 all the time. User can use range() to generate a series of numbers from X to Y using a range(X, Y).\n",
    "\n",
    "for i in range(0,10):\n",
    "    print(i, end=\" \")\n",
    "print(\"\\n\")\n",
    "\n",
    "# range(start, stop, step)\n",
    "# When the user call range() with three arguments, the user can choose not only where the series of numbers will start and stop but \n",
    "# also how big the difference will be between one number and the next. If the user doesn’t provide a step, then range() will automatically \n",
    "# behave as if the step is 1\n",
    "\n",
    "for i in range(0,10,1):\n",
    "    print(i, end=\" \")\n",
    "print(\"\\n\")"
   ]
  },
  {
   "cell_type": "markdown",
   "id": "14f7cf84",
   "metadata": {},
   "source": [
    "Solution 12"
   ]
  },
  {
   "cell_type": "code",
   "execution_count": 10,
   "id": "853bfe03",
   "metadata": {},
   "outputs": [
    {
     "name": "stdout",
     "output_type": "stream",
     "text": [
      "1 2 3 4 5 6 7 8 9 10 "
     ]
    }
   ],
   "source": [
    "for i in range(1,11):\n",
    "    print (i,end=\" \")"
   ]
  },
  {
   "cell_type": "code",
   "execution_count": 13,
   "id": "e27183f5",
   "metadata": {},
   "outputs": [
    {
     "name": "stdout",
     "output_type": "stream",
     "text": [
      "1 2 3 4 5 6 7 8 9 10 "
     ]
    }
   ],
   "source": [
    "i=1\n",
    "while (i<=10):\n",
    "    print(i, end=\" \")\n",
    "    i+=1"
   ]
  },
  {
   "cell_type": "markdown",
   "id": "37ba18a4",
   "metadata": {},
   "source": [
    "Solution 13"
   ]
  },
  {
   "cell_type": "code",
   "execution_count": null,
   "id": "0a16e6cd",
   "metadata": {},
   "outputs": [],
   "source": [
    "spam.becon()"
   ]
  }
 ],
 "metadata": {
  "kernelspec": {
   "display_name": "Python 3 (ipykernel)",
   "language": "python",
   "name": "python3"
  },
  "language_info": {
   "codemirror_mode": {
    "name": "ipython",
    "version": 3
   },
   "file_extension": ".py",
   "mimetype": "text/x-python",
   "name": "python",
   "nbconvert_exporter": "python",
   "pygments_lexer": "ipython3",
   "version": "3.9.7"
  }
 },
 "nbformat": 4,
 "nbformat_minor": 5
}
