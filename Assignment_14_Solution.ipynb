{
 "cells": [
  {
   "cell_type": "markdown",
   "id": "1361e3ae",
   "metadata": {},
   "source": [
    "# Assignment_14"
   ]
  },
  {
   "cell_type": "markdown",
   "id": "2beb015b",
   "metadata": {},
   "source": [
    "## Q1. What does RGBA stand for?"
   ]
  },
  {
   "cell_type": "markdown",
   "id": "e8e6df3d",
   "metadata": {},
   "source": [
    "S1. An RGBA value is a tuple of 4 integers, each ranging from 0 to 255. The four integers correspond to the amount of red, green, blue, and alpha (transparency) in the color."
   ]
  },
  {
   "cell_type": "markdown",
   "id": "075c4080",
   "metadata": {},
   "source": [
    "## Q2. From the Pillow module, how do you get the RGBA value of any images?"
   ]
  },
  {
   "cell_type": "markdown",
   "id": "0ed53b2a",
   "metadata": {},
   "source": [
    "S2. A function call to ImageColor.getcolor('','RGBA') will return the RGBA value for that color."
   ]
  },
  {
   "cell_type": "code",
   "execution_count": 3,
   "id": "8676a11c",
   "metadata": {},
   "outputs": [
    {
     "data": {
      "text/plain": [
       "(255, 0, 0, 255)"
      ]
     },
     "execution_count": 3,
     "metadata": {},
     "output_type": "execute_result"
    }
   ],
   "source": [
    "from PIL import ImageColor\n",
    "ImageColor.getcolor('Red','RGBA')"
   ]
  },
  {
   "cell_type": "markdown",
   "id": "7f5fd141",
   "metadata": {},
   "source": [
    "## Q3. What is a box tuple, and how does it work?"
   ]
  },
  {
   "cell_type": "markdown",
   "id": "72d47b83",
   "metadata": {},
   "source": [
    "S3. A box tuple is a tuple value of four integers: the left-edge x-coordinate, the top-edge y-coordinate, the width, and the height, respectively.The Image.crop(box) takes a 4-tuple (left, upper, right, lower) pixel coordinate, and returns a rectangular region from the used image."
   ]
  },
  {
   "cell_type": "code",
   "execution_count": 4,
   "id": "c8c21469",
   "metadata": {},
   "outputs": [
    {
     "data": {
      "text/plain": [
       "(1200, 675)"
      ]
     },
     "execution_count": 4,
     "metadata": {},
     "output_type": "execute_result"
    }
   ],
   "source": [
    "from PIL import Image\n",
    " \n",
    "#  open image and get size\n",
    "img = Image.open(r\"C:\\Users\\amank\\Downloads\\I_Neuron\\ImageScrapper\\ImageScrapper\\images\\sudhanshu_ineuron\\jpg_8.jpg\")\n",
    "width, height = img.size\n",
    "width, height"
   ]
  },
  {
   "cell_type": "code",
   "execution_count": 5,
   "id": "e0564820",
   "metadata": {},
   "outputs": [],
   "source": [
    "# cropped image using coordinates\n",
    "area = (160, 50, width-200, height)\n",
    "crop_img = img.crop(area)\n",
    "crop_img.save(\"crop_img_jpg_8.jpg\")"
   ]
  },
  {
   "cell_type": "markdown",
   "id": "5496602d",
   "metadata": {},
   "source": [
    "## Q4. Use your image and load in notebook then, How can you find out the width and height of an Image object?"
   ]
  },
  {
   "cell_type": "markdown",
   "id": "bb060690",
   "metadata": {},
   "source": [
    "S4. imageObj.size is a tuple of two integers, the width and the height."
   ]
  },
  {
   "cell_type": "code",
   "execution_count": 6,
   "id": "e5622fbe",
   "metadata": {},
   "outputs": [
    {
     "data": {
      "text/plain": [
       "(1200, 675)"
      ]
     },
     "execution_count": 6,
     "metadata": {},
     "output_type": "execute_result"
    }
   ],
   "source": [
    "#  open image and get size\n",
    "img = Image.open(r\"C:\\Users\\amank\\Downloads\\I_Neuron\\ImageScrapper\\ImageScrapper\\images\\sudhanshu_ineuron\\jpg_8.jpg\")\n",
    "width, height = img.size\n",
    "width, height"
   ]
  },
  {
   "cell_type": "markdown",
   "id": "3339de10",
   "metadata": {},
   "source": [
    "## Q5. What method would you call to get Image object for a 100×100 image, excluding the lower-left quarter of it?"
   ]
  },
  {
   "cell_type": "markdown",
   "id": "92d1e267",
   "metadata": {},
   "source": [
    "S5. imageObj.crop((0, 50, 50, 50)). Notice that you are passing a box tuple to crop(), not four separate integer arguments."
   ]
  },
  {
   "cell_type": "code",
   "execution_count": 7,
   "id": "e3cd8e14",
   "metadata": {},
   "outputs": [
    {
     "data": {
      "text/plain": [
       "(1200, 675)"
      ]
     },
     "execution_count": 7,
     "metadata": {},
     "output_type": "execute_result"
    }
   ],
   "source": [
    "img1 = Image.open(r\"C:\\Users\\amank\\Downloads\\I_Neuron\\ImageScrapper\\ImageScrapper\\images\\sudhanshu_ineuron\\jpg_8.jpg\")\n",
    "width, height = img1.size\n",
    "width, height"
   ]
  },
  {
   "cell_type": "code",
   "execution_count": 8,
   "id": "05fffd8e",
   "metadata": {},
   "outputs": [
    {
     "data": {
      "image/png": "[encoded data removed]",
      "text/plain": [
       "<PIL.Image.Image image mode=RGB size=100x100 at 0x23CAC5A3E50>"
      ]
     },
     "execution_count": 8,
     "metadata": {},
     "output_type": "execute_result"
    }
   ],
   "source": [
    "crop_img = img1.crop((0, 0,100, 100))\n",
    "crop_img"
   ]
  },
  {
   "cell_type": "code",
   "execution_count": 9,
   "id": "75c39878",
   "metadata": {},
   "outputs": [
    {
     "data": {
      "text/plain": [
       "(100, 100)"
      ]
     },
     "execution_count": 9,
     "metadata": {},
     "output_type": "execute_result"
    }
   ],
   "source": [
    "w,h = crop_img.size\n",
    "w,h"
   ]
  },
  {
   "cell_type": "code",
   "execution_count": 10,
   "id": "e9be8cad",
   "metadata": {},
   "outputs": [],
   "source": [
    "crop_img.save(\"cro_jpg_8.jpg\")"
   ]
  },
  {
   "cell_type": "markdown",
   "id": "756a2f2e",
   "metadata": {},
   "source": [
    "## Q6. After making changes to an Image object, how could you save it as an image file?"
   ]
  },
  {
   "cell_type": "markdown",
   "id": "7be12aa4",
   "metadata": {},
   "source": [
    "S6. By Calling"
   ]
  },
  {
   "cell_type": "raw",
   "id": "1cfc30b6",
   "metadata": {},
   "source": [
    "ImageObj.save('new_filename.png')"
   ]
  },
  {
   "cell_type": "markdown",
   "id": "059ad0eb",
   "metadata": {},
   "source": [
    "## Q7. What module contains Pillow’s shape-drawing code?"
   ]
  },
  {
   "cell_type": "markdown",
   "id": "9ab4dc0d",
   "metadata": {},
   "source": [
    "S7. The ImageDraw module contains code to draw on images."
   ]
  },
  {
   "cell_type": "markdown",
   "id": "54581c96",
   "metadata": {},
   "source": [
    "## Q8. Image objects do not have drawing methods. What kind of object does? How do you get this kind of object?"
   ]
  },
  {
   "cell_type": "markdown",
   "id": "298dc6c6",
   "metadata": {},
   "source": [
    "S8. ImageDraw objects have shape-drawing methods such as point(), line(), or rectangle(). They are returned by passing the Image object to the ImageDraw.Draw() function."
   ]
  }
 ],
 "metadata": {
  "kernelspec": {
   "display_name": "Python 3 (ipykernel)",
   "language": "python",
   "name": "python3"
  },
  "language_info": {
   "codemirror_mode": {
    "name": "ipython",
    "version": 3
   },
   "file_extension": ".py",
   "mimetype": "text/x-python",
   "name": "python",
   "nbconvert_exporter": "python",
   "pygments_lexer": "ipython3",
   "version": "3.9.7"
  }
 },
 "nbformat": 4,
 "nbformat_minor": 5
}
