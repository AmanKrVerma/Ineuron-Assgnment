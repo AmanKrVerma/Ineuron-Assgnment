{
 "cells": [
  {
   "cell_type": "markdown",
   "id": "ff0f6913",
   "metadata": {},
   "source": [
    "# Assignment_19"
   ]
  },
  {
   "cell_type": "markdown",
   "id": "fc6ce95c",
   "metadata": {},
   "source": [
    "## Q1. Make a class called Thing with no contents and print it. Then, create an object called example from this class and also print it. Are the printed values the same or different?"
   ]
  },
  {
   "cell_type": "markdown",
   "id": "854e9933",
   "metadata": {},
   "source": [
    "S1. Printed values are not same, as former prints class type & its name and prior prints class type, its name & object details."
   ]
  },
  {
   "cell_type": "code",
   "execution_count": 2,
   "id": "ed3a4d5b",
   "metadata": {},
   "outputs": [],
   "source": [
    "# Creating a class called Thing\n",
    "class Thing:\n",
    "    pass"
   ]
  },
  {
   "cell_type": "code",
   "execution_count": 3,
   "id": "e93aa267",
   "metadata": {},
   "outputs": [
    {
     "name": "stdout",
     "output_type": "stream",
     "text": [
      "<class '__main__.Thing'>\n"
     ]
    }
   ],
   "source": [
    "# Printing Thing\n",
    "print(Thing)"
   ]
  },
  {
   "cell_type": "code",
   "execution_count": 4,
   "id": "339f4598",
   "metadata": {},
   "outputs": [
    {
     "name": "stdout",
     "output_type": "stream",
     "text": [
      "<__main__.Thing object at 0x0000026D17F9ADC0>\n"
     ]
    }
   ],
   "source": [
    "# Creating object for Thing class & Printing it\n",
    "example = Thing()\n",
    "print(example)"
   ]
  },
  {
   "cell_type": "markdown",
   "id": "61a65ab4",
   "metadata": {},
   "source": [
    "## Q2. Create a new class called Thing2 and add the value 'abc' to the letters class attribute. Letters should be printed."
   ]
  },
  {
   "cell_type": "markdown",
   "id": "a07d453e",
   "metadata": {},
   "source": [
    "S2."
   ]
  },
  {
   "cell_type": "code",
   "execution_count": 5,
   "id": "dc85efa1",
   "metadata": {},
   "outputs": [
    {
     "name": "stdout",
     "output_type": "stream",
     "text": [
      "abc\n"
     ]
    }
   ],
   "source": [
    "# Creating Thing2 class & Printing its  attribute\n",
    "class Thing2:\n",
    "    letters = 'abc'\n",
    "print(Thing2.letters)"
   ]
  },
  {
   "cell_type": "markdown",
   "id": "5a629ffc",
   "metadata": {},
   "source": [
    "## Q3. Make yet another class called, of course, Thing3. This time, assign the value 'xyz' to an instance (object) attribute called letters. Print letters. Do you need to make an object from the class to do this?"
   ]
  },
  {
   "cell_type": "markdown",
   "id": "adaa20b1",
   "metadata": {},
   "source": [
    "S3. Yes, it was required to do so because we have used instance variable we need a object to access the instance values."
   ]
  },
  {
   "cell_type": "code",
   "execution_count": 6,
   "id": "e7e4d426",
   "metadata": {},
   "outputs": [],
   "source": [
    "# Creating a class Things3 and using instance attribute or variable\n",
    "class Thing3:\n",
    "    def __init__(self):\n",
    "        self.letters = 'xyz'"
   ]
  },
  {
   "cell_type": "code",
   "execution_count": 7,
   "id": "d50cb9c9",
   "metadata": {},
   "outputs": [
    {
     "ename": "AttributeError",
     "evalue": "type object 'Thing3' has no attribute 'letters'",
     "output_type": "error",
     "traceback": [
      "\u001b[1;31m---------------------------------------------------------------------------\u001b[0m",
      "\u001b[1;31mAttributeError\u001b[0m                            Traceback (most recent call last)",
      "\u001b[1;32m~\\AppData\\Local\\Temp/ipykernel_16200/3812731137.py\u001b[0m in \u001b[0;36m<module>\u001b[1;34m\u001b[0m\n\u001b[0;32m      1\u001b[0m \u001b[1;31m# Trying to print without Creating a object\u001b[0m\u001b[1;33m\u001b[0m\u001b[1;33m\u001b[0m\u001b[0m\n\u001b[1;32m----> 2\u001b[1;33m \u001b[0mprint\u001b[0m\u001b[1;33m(\u001b[0m\u001b[0mThing3\u001b[0m\u001b[1;33m.\u001b[0m\u001b[0mletters\u001b[0m\u001b[1;33m)\u001b[0m\u001b[1;33m\u001b[0m\u001b[1;33m\u001b[0m\u001b[0m\n\u001b[0m",
      "\u001b[1;31mAttributeError\u001b[0m: type object 'Thing3' has no attribute 'letters'"
     ]
    }
   ],
   "source": [
    "# Trying to print without Creating a object \n",
    "print(Thing3.letters)"
   ]
  },
  {
   "cell_type": "code",
   "execution_count": 8,
   "id": "beabc2e7",
   "metadata": {},
   "outputs": [
    {
     "name": "stdout",
     "output_type": "stream",
     "text": [
      "xyz\n"
     ]
    }
   ],
   "source": [
    "# Creating a object for Thing3 class\n",
    "something = Thing3()\n",
    "# Printing letters by calling something.letters\n",
    "print(something.letters)"
   ]
  },
  {
   "cell_type": "markdown",
   "id": "3846a16b",
   "metadata": {},
   "source": [
    "## Q4. Create an Element class with the instance attributes name, symbol, and number. Create a class object with the values 'Hydrogen,' 'H,' and 1."
   ]
  },
  {
   "cell_type": "markdown",
   "id": "2f38e32e",
   "metadata": {},
   "source": [
    "S4. "
   ]
  },
  {
   "cell_type": "code",
   "execution_count": 9,
   "id": "e92a0fd5",
   "metadata": {},
   "outputs": [],
   "source": [
    "# Creating a class called Element & creating its Instance attribute & variable\n",
    "class Element:\n",
    "    def __init__(self, name, symbol, number):\n",
    "        self.name = name\n",
    "        self.symbol = symbol\n",
    "        self.number = number"
   ]
  },
  {
   "cell_type": "code",
   "execution_count": 10,
   "id": "a445c547",
   "metadata": {},
   "outputs": [],
   "source": [
    "# Creating a object for Element class\n",
    "hydrogen = Element('Hydrogen', 'H', 1)"
   ]
  },
  {
   "cell_type": "markdown",
   "id": "f233437b",
   "metadata": {},
   "source": [
    "## Q5. Make a dictionary with these keys and values: 'name': 'Hydrogen', 'symbol': 'H', 'number': 1. Then, create an object called hydrogen from class Element using this dictionary."
   ]
  },
  {
   "cell_type": "markdown",
   "id": "e330275b",
   "metadata": {},
   "source": [
    "S5."
   ]
  },
  {
   "cell_type": "code",
   "execution_count": 11,
   "id": "c39e3e26",
   "metadata": {},
   "outputs": [],
   "source": [
    "# Creating a dictionary\n",
    "el_dict = {'name': 'Hydrogen', 'symbol': 'H', 'number': 1}"
   ]
  },
  {
   "cell_type": "code",
   "execution_count": 12,
   "id": "26f9ec77",
   "metadata": {},
   "outputs": [
    {
     "data": {
      "text/plain": [
       "'Hydrogen'"
      ]
     },
     "execution_count": 12,
     "metadata": {},
     "output_type": "execute_result"
    }
   ],
   "source": [
    "# Creating a object called hydrogen for Element class \n",
    "hydrogen = Element(el_dict['name'], el_dict['symbol'], el_dict['number'])\n",
    "hydrogen.name"
   ]
  },
  {
   "cell_type": "code",
   "execution_count": 13,
   "id": "40a01d1c",
   "metadata": {},
   "outputs": [],
   "source": [
    "# Or by Using dictionary unpacking **"
   ]
  },
  {
   "cell_type": "code",
   "execution_count": 14,
   "id": "3f139c58",
   "metadata": {},
   "outputs": [
    {
     "data": {
      "text/plain": [
       "'Hydrogen'"
      ]
     },
     "execution_count": 14,
     "metadata": {},
     "output_type": "execute_result"
    }
   ],
   "source": [
    "hydrogen = Element(**el_dict)\n",
    "hydrogen.name"
   ]
  },
  {
   "cell_type": "markdown",
   "id": "fe8f1e87",
   "metadata": {},
   "source": [
    "## Q6. For the Element class, define a method called dump() that prints the values of the object’s attributes (name, symbol, and number). Create the hydrogen object from this new definition and use dump() to print its attributes."
   ]
  },
  {
   "cell_type": "markdown",
   "id": "549a53c2",
   "metadata": {},
   "source": [
    "S6."
   ]
  },
  {
   "cell_type": "code",
   "execution_count": 15,
   "id": "15238dbf",
   "metadata": {},
   "outputs": [],
   "source": [
    "# Creating a class called as Element \n",
    "class Element:\n",
    "        # Defining instance variables or attributes name, symbol, number\n",
    "        def __init__(self, name, symbol, number):\n",
    "            self.name = name\n",
    "            self.symbol = symbol\n",
    "            self.number = number\n",
    "        # Defining dump method to print the values of instance attribute\n",
    "        def dump(self):\n",
    "            print('name = %s, symbol = %s, number = %s' %(self.name, self.symbol, self.number))"
   ]
  },
  {
   "cell_type": "code",
   "execution_count": 16,
   "id": "abb2df0c",
   "metadata": {},
   "outputs": [],
   "source": [
    "# Creating a object called hydrogen for Element class by dictionary unpacking **\n",
    "hydrogen = Element(**el_dict)"
   ]
  },
  {
   "cell_type": "code",
   "execution_count": 17,
   "id": "c02f73cd",
   "metadata": {},
   "outputs": [
    {
     "name": "stdout",
     "output_type": "stream",
     "text": [
      "name = Hydrogen, symbol = H, number = 1\n"
     ]
    }
   ],
   "source": [
    "# Calling dump to print its attribute\n",
    "hydrogen.dump()"
   ]
  },
  {
   "cell_type": "markdown",
   "id": "72312bf5",
   "metadata": {},
   "source": [
    "## Q7. Call print(hydrogen). In the definition of Element, change the name of method dump to __str__ , create a new hydrogen object, and call print(hydrogen) again."
   ]
  },
  {
   "cell_type": "markdown",
   "id": "e76b20cd",
   "metadata": {},
   "source": [
    "S7."
   ]
  },
  {
   "cell_type": "code",
   "execution_count": 18,
   "id": "24cd4ba8",
   "metadata": {},
   "outputs": [
    {
     "name": "stdout",
     "output_type": "stream",
     "text": [
      "<__main__.Element object at 0x0000026D18096D60>\n"
     ]
    }
   ],
   "source": [
    "# Calling print(hydrogen) to print\n",
    "print(hydrogen)"
   ]
  },
  {
   "cell_type": "code",
   "execution_count": 19,
   "id": "d8b5e42c",
   "metadata": {},
   "outputs": [],
   "source": [
    "# Creating a class called as Element Defining instance variables or attributes name, symbol, number\n",
    "class Element:\n",
    "    # Defining instance variables or attributes name, symbol, number\n",
    "    def __init__(self, name, symbol, number):\n",
    "        self.name = name\n",
    "        self.symbol = symbol\n",
    "        self.number = number\n",
    "    # Defining __str__ method to print the information about object    \n",
    "    def __str__(self):\n",
    "        return ('name = %s, symbol = %s, number = %s' %(self.name, self.symbol, self.number))"
   ]
  },
  {
   "cell_type": "code",
   "execution_count": 20,
   "id": "8e7c1468",
   "metadata": {},
   "outputs": [],
   "source": [
    "# Creating a object called hydrogen for Element class by dictionary unpacking **\n",
    "hydrogen = Element(**el_dict)"
   ]
  },
  {
   "cell_type": "code",
   "execution_count": 21,
   "id": "f3fd5242",
   "metadata": {},
   "outputs": [
    {
     "name": "stdout",
     "output_type": "stream",
     "text": [
      "name = Hydrogen, symbol = H, number = 1\n"
     ]
    }
   ],
   "source": [
    "# Printing class variable of Element class i.e hydrogen\n",
    "print(hydrogen)"
   ]
  },
  {
   "cell_type": "markdown",
   "id": "c5c23a4c",
   "metadata": {},
   "source": [
    "## Q8. Modify Element to make the attributes name, symbol, and number private. Define a getter property for each to return its value."
   ]
  },
  {
   "cell_type": "markdown",
   "id": "20935ad8",
   "metadata": {},
   "source": [
    "S8."
   ]
  },
  {
   "cell_type": "code",
   "execution_count": 38,
   "id": "f03775ad",
   "metadata": {},
   "outputs": [],
   "source": [
    "# Creating a class called as Element Defining private instance variables or attributes name, symbol, number\n",
    "class Element:\n",
    "        def __init__(self, name, symbol, number):\n",
    "            self.__name = name\n",
    "            self.__symbol = symbol\n",
    "            self.__number = number\n",
    "        # Using getter property (@property)to return the values of private variable.\n",
    "        @property\n",
    "        def name(self):\n",
    "            return self.__name\n",
    "        @property\n",
    "        def symbol(self):\n",
    "            return self.__symbol\n",
    "        @property\n",
    "        def number(self):\n",
    "            return self.__number"
   ]
  },
  {
   "cell_type": "code",
   "execution_count": 39,
   "id": "394ac30c",
   "metadata": {},
   "outputs": [],
   "source": [
    "# Creating a object for Element class\n",
    "hydrogen = Element('Hydrogen', 'H', 1)"
   ]
  },
  {
   "cell_type": "code",
   "execution_count": 40,
   "id": "c9ec5d4f",
   "metadata": {},
   "outputs": [],
   "source": [
    "# Acessing Private variable of Element class"
   ]
  },
  {
   "cell_type": "code",
   "execution_count": 41,
   "id": "550e1489",
   "metadata": {},
   "outputs": [
    {
     "data": {
      "text/plain": [
       "'Hydrogen'"
      ]
     },
     "execution_count": 41,
     "metadata": {},
     "output_type": "execute_result"
    }
   ],
   "source": [
    "hydrogen.name"
   ]
  },
  {
   "cell_type": "code",
   "execution_count": 42,
   "id": "0c6a3ba1",
   "metadata": {},
   "outputs": [
    {
     "data": {
      "text/plain": [
       "'H'"
      ]
     },
     "execution_count": 42,
     "metadata": {},
     "output_type": "execute_result"
    }
   ],
   "source": [
    "hydrogen.symbol"
   ]
  },
  {
   "cell_type": "code",
   "execution_count": 26,
   "id": "6145296e",
   "metadata": {},
   "outputs": [
    {
     "data": {
      "text/plain": [
       "1"
      ]
     },
     "execution_count": 26,
     "metadata": {},
     "output_type": "execute_result"
    }
   ],
   "source": [
    "hydrogen.number"
   ]
  },
  {
   "cell_type": "markdown",
   "id": "65b91191",
   "metadata": {},
   "source": [
    "## Q9. Define three classes: Bear, Rabbit, and Octothorpe. For each, define only one method: eats(). This should return 'berries' (Bear), 'clover' (Rabbit), or 'campers' (Octothorpe). Create one object from each and print what it eats."
   ]
  },
  {
   "cell_type": "markdown",
   "id": "f4155473",
   "metadata": {},
   "source": [
    "S9."
   ]
  },
  {
   "cell_type": "code",
   "execution_count": 27,
   "id": "093805fd",
   "metadata": {},
   "outputs": [],
   "source": [
    "# Creating three classes Bear, Rabbit, Octothorpe & defining a method for each to return what it eats.\n",
    "class Bear:\n",
    "     def eats(self):\n",
    "        return 'berries'\n",
    "class Rabbit:\n",
    "     def eats(self):\n",
    "        return 'clover'\n",
    "class Octothorpe:\n",
    "     def eats(self):\n",
    "        return 'campers'"
   ]
  },
  {
   "cell_type": "code",
   "execution_count": 28,
   "id": "e5d7e885",
   "metadata": {},
   "outputs": [],
   "source": [
    "# Creating object for each of three classes\n",
    "b = Bear()\n",
    "r = Rabbit()\n",
    "o = Octothorpe()"
   ]
  },
  {
   "cell_type": "code",
   "execution_count": null,
   "id": "a41c0eb1",
   "metadata": {},
   "outputs": [],
   "source": [
    "# Printing values of each classes by calling their respective objects followed by methods"
   ]
  },
  {
   "cell_type": "code",
   "execution_count": 29,
   "id": "c46b3440",
   "metadata": {},
   "outputs": [
    {
     "name": "stdout",
     "output_type": "stream",
     "text": [
      "berries\n"
     ]
    }
   ],
   "source": [
    "print(b.eats())"
   ]
  },
  {
   "cell_type": "code",
   "execution_count": 30,
   "id": "f2b26a84",
   "metadata": {},
   "outputs": [
    {
     "name": "stdout",
     "output_type": "stream",
     "text": [
      "clover\n"
     ]
    }
   ],
   "source": [
    "print(r.eats())"
   ]
  },
  {
   "cell_type": "code",
   "execution_count": 31,
   "id": "2f470cc8",
   "metadata": {},
   "outputs": [
    {
     "name": "stdout",
     "output_type": "stream",
     "text": [
      "campers\n"
     ]
    }
   ],
   "source": [
    "print(o.eats())"
   ]
  },
  {
   "cell_type": "markdown",
   "id": "4d043e5e",
   "metadata": {},
   "source": [
    "## Q10. Define these classes: Laser, Claw, and SmartPhone. Each has only one method: does(). This returns 'disintegrate' (Laser), 'crush' (Claw), or 'ring' (SmartPhone). Then, define the class Robot that has one instance (object) of each of these. Define a does() method for the Robot that prints what its component objects do.\n",
    "\n"
   ]
  },
  {
   "cell_type": "markdown",
   "id": "1e6e2de9",
   "metadata": {},
   "source": [
    "S10."
   ]
  },
  {
   "cell_type": "code",
   "execution_count": 32,
   "id": "1194a743",
   "metadata": {},
   "outputs": [],
   "source": [
    "# Creating three classes Laser, Claw, and SmartPhone & defining a does method for each to return disintegrate,crush & ring respectively.\n",
    "class Laser:\n",
    "    def does(self):\n",
    "        return 'disintegrate'\n",
    "class Claw:\n",
    "    def does(self):\n",
    "        return 'crush'\n",
    "class SmartPhone:\n",
    "    def does(self):\n",
    "        return 'ring'\n",
    "\n",
    "# Creating a class Robot. \n",
    "# Creating object instances for the above defined classes.\n",
    "# Defining a does methord for class  Robot to print what its component object do.\n",
    "class Robot:\n",
    "    def __init__(self):\n",
    "            self.laser = Laser()\n",
    "            self.claw = Claw()\n",
    "            self.smartphone = SmartPhone()\n",
    "    def does(self):\n",
    "            return '''I have many attachments:\n",
    "            My laser, to %s.\n",
    "            My claw, to %s.\n",
    "            My smartphone, to %s.''' % (\n",
    "            self.laser.does(),\n",
    "            self.claw.does(),\n",
    "            self.smartphone.does() )\n"
   ]
  },
  {
   "cell_type": "code",
   "execution_count": 33,
   "id": "3007e445",
   "metadata": {},
   "outputs": [],
   "source": [
    "# Creating a object for class Robot.\n",
    "robbie = Robot()"
   ]
  },
  {
   "cell_type": "code",
   "execution_count": 34,
   "id": "610f0d44",
   "metadata": {},
   "outputs": [
    {
     "name": "stdout",
     "output_type": "stream",
     "text": [
      "I have many attachments:\n",
      "            My laser, to disintegrate.\n",
      "            My claw, to crush.\n",
      "            My smartphone, to ring.\n"
     ]
    }
   ],
   "source": [
    "# Printing the values\n",
    "print(robbie.does())"
   ]
  }
 ],
 "metadata": {
  "kernelspec": {
   "display_name": "Python 3 (ipykernel)",
   "language": "python",
   "name": "python3"
  },
  "language_info": {
   "codemirror_mode": {
    "name": "ipython",
    "version": 3
   },
   "file_extension": ".py",
   "mimetype": "text/x-python",
   "name": "python",
   "nbconvert_exporter": "python",
   "pygments_lexer": "ipython3",
   "version": "3.9.7"
  }
 },
 "nbformat": 4,
 "nbformat_minor": 5
}
