{
 "cells": [
  {
   "cell_type": "markdown",
   "id": "9259f099",
   "metadata": {},
   "source": [
    "# Assignment_13"
   ]
  },
  {
   "cell_type": "markdown",
   "id": "671c4b2d",
   "metadata": {},
   "source": [
    "## Q1. What advantages do Excel spreadsheets have over CSV spreadsheets?"
   ]
  },
  {
   "cell_type": "markdown",
   "id": "85329eac",
   "metadata": {},
   "source": [
    "S1. Excel advantages over CSV\n",
    "1. It is a binary file that holds information about all the worksheets in a workbook\n",
    "2. An Excel not only stores data but can also do operations on the data\n",
    "3. Files saved in excel cannot be opened or edited by text editors\n",
    "4. large files user is much easier in Excel for the end user. Also, \n",
    "    you can have additional functions like selecting individual cells for import, \n",
    "    convert dates and time automatically, reading formulas and their results, filters, sorting, etc\n",
    "5. Apart from text, data can also be stored in form of charts and graphs\n",
    "6. Excel can connect to external data sources to fetch data. You can use custom add-in in Excel to increase its functionality. \n",
    "7. Excel allows for Review of Data with detailed tracking and commenting feature\n",
    "8. In Excel, spreadsheets can have values of data types other than strings; cells can have different fonts, sizes, \n",
    "   or color settings; cells can have varying widths and heights; adjacent cells can be merged"
   ]
  },
  {
   "cell_type": "markdown",
   "id": "ff5a58fd",
   "metadata": {},
   "source": [
    "## Q2. What do you pass to csv.reader() and csv.writer() to create reader and writer objects?"
   ]
  },
  {
   "cell_type": "markdown",
   "id": "2f4c500b",
   "metadata": {},
   "source": [
    "S2. You pass a File object, obtained from a call to open()."
   ]
  },
  {
   "cell_type": "code",
   "execution_count": 1,
   "id": "6165a994",
   "metadata": {},
   "outputs": [
    {
     "data": {
      "text/plain": [
       "[['536367',\n",
       "  '22749',\n",
       "  'FELTCRAFT PRINCESS CHARLOTTE DOLL',\n",
       "  '8',\n",
       "  '01-12-2010 08:34',\n",
       "  '3.75',\n",
       "  '13047',\n",
       "  'United Kingdom'],\n",
       " ['536367',\n",
       "  '22310',\n",
       "  'IVORY KNITTED MUG COSY ',\n",
       "  '6',\n",
       "  '01-12-2010 08:34',\n",
       "  '1.65',\n",
       "  '13047',\n",
       "  'United Kingdom'],\n",
       " ['536367',\n",
       "  '84969',\n",
       "  'BOX OF 6 ASSORTED COLOUR TEASPOONS',\n",
       "  '6',\n",
       "  '01-12-2010 08:34',\n",
       "  '4.25',\n",
       "  '13047',\n",
       "  'United Kingdom'],\n",
       " ['536367',\n",
       "  '22623',\n",
       "  'BOX OF VINTAGE JIGSAW BLOCKS ',\n",
       "  '3',\n",
       "  '01-12-2010 08:34',\n",
       "  '4.95',\n",
       "  '13047',\n",
       "  'United Kingdom'],\n",
       " ['536367',\n",
       "  '22622',\n",
       "  'BOX OF VINTAGE ALPHABET BLOCKS',\n",
       "  '2',\n",
       "  '01-12-2010 08:34',\n",
       "  '9.95',\n",
       "  '13047',\n",
       "  'United Kingdom'],\n",
       " ['536367',\n",
       "  '21754',\n",
       "  'HOME BUILDING BLOCK WORD',\n",
       "  '3',\n",
       "  '01-12-2010 08:34',\n",
       "  '5.95',\n",
       "  '13047',\n",
       "  'United Kingdom'],\n",
       " ['536367',\n",
       "  '21755',\n",
       "  'LOVE BUILDING BLOCK WORD',\n",
       "  '3',\n",
       "  '01-12-2010 08:34',\n",
       "  '5.95',\n",
       "  '13047',\n",
       "  'United Kingdom'],\n",
       " ['536367',\n",
       "  '21777',\n",
       "  'RECIPE BOX WITH METAL HEART',\n",
       "  '4',\n",
       "  '01-12-2010 08:34',\n",
       "  '7.95',\n",
       "  '13047',\n",
       "  'United Kingdom'],\n",
       " ['536367',\n",
       "  '48187',\n",
       "  'DOORMAT NEW ENGLAND',\n",
       "  '4',\n",
       "  '01-12-2010 08:34',\n",
       "  '7.95',\n",
       "  '13047',\n",
       "  'United Kingdom']]"
      ]
     },
     "execution_count": 1,
     "metadata": {},
     "output_type": "execute_result"
    }
   ],
   "source": [
    "import csv\n",
    "File = open(r\"C:\\Users\\amank\\Downloads\\I_Neuron\\Testdata.csv\")\n",
    "File_reader = csv.reader(File)\n",
    "Data = list(File_reader)\n",
    "Data"
   ]
  },
  {
   "cell_type": "markdown",
   "id": "16b2d31e",
   "metadata": {},
   "source": [
    "## Q3. What modes do File objects for reader and writer objects need to be opened in?"
   ]
  },
  {
   "cell_type": "markdown",
   "id": "03d4a50a",
   "metadata": {},
   "source": [
    "S3. File objects need to be opened in read-binary ('rb') for reader objects and write-binary ('wb') for writer objects."
   ]
  },
  {
   "cell_type": "markdown",
   "id": "c7793955",
   "metadata": {},
   "source": [
    "## Q4. What method takes a list argument and writes it to a CSV file?"
   ]
  },
  {
   "cell_type": "markdown",
   "id": "5b9ae299",
   "metadata": {},
   "source": [
    "S4. The writerow() method"
   ]
  },
  {
   "cell_type": "code",
   "execution_count": 18,
   "id": "d1a33fc3",
   "metadata": {},
   "outputs": [
    {
     "data": {
      "text/plain": [
       "[['536367',\n",
       "  '22749',\n",
       "  'FELTCRAFT PRINCESS CHARLOTTE DOLL',\n",
       "  '8',\n",
       "  '01-12-2010 08:34',\n",
       "  '3.75',\n",
       "  '13047',\n",
       "  'United Kingdom'],\n",
       " ['536367',\n",
       "  '22310',\n",
       "  'IVORY KNITTED MUG COSY ',\n",
       "  '6',\n",
       "  '01-12-2010 08:34',\n",
       "  '1.65',\n",
       "  '13047',\n",
       "  'United Kingdom'],\n",
       " ['536367',\n",
       "  '84969',\n",
       "  'BOX OF 6 ASSORTED COLOUR TEASPOONS',\n",
       "  '6',\n",
       "  '01-12-2010 08:34',\n",
       "  '4.25',\n",
       "  '13047',\n",
       "  'United Kingdom'],\n",
       " ['536367',\n",
       "  '22623',\n",
       "  'BOX OF VINTAGE JIGSAW BLOCKS ',\n",
       "  '3',\n",
       "  '01-12-2010 08:34',\n",
       "  '4.95',\n",
       "  '13047',\n",
       "  'United Kingdom'],\n",
       " ['536367',\n",
       "  '22622',\n",
       "  'BOX OF VINTAGE ALPHABET BLOCKS',\n",
       "  '2',\n",
       "  '01-12-2010 08:34',\n",
       "  '9.95',\n",
       "  '13047',\n",
       "  'United Kingdom'],\n",
       " ['536367',\n",
       "  '21754',\n",
       "  'HOME BUILDING BLOCK WORD',\n",
       "  '3',\n",
       "  '01-12-2010 08:34',\n",
       "  '5.95',\n",
       "  '13047',\n",
       "  'United Kingdom'],\n",
       " ['536367',\n",
       "  '21755',\n",
       "  'LOVE BUILDING BLOCK WORD',\n",
       "  '3',\n",
       "  '01-12-2010 08:34',\n",
       "  '5.95',\n",
       "  '13047',\n",
       "  'United Kingdom'],\n",
       " ['536367',\n",
       "  '21777',\n",
       "  'RECIPE BOX WITH METAL HEART',\n",
       "  '4',\n",
       "  '01-12-2010 08:34',\n",
       "  '7.95',\n",
       "  '13047',\n",
       "  'United Kingdom'],\n",
       " ['536367',\n",
       "  '48187',\n",
       "  'DOORMAT NEW ENGLAND',\n",
       "  '4',\n",
       "  '01-12-2010 08:34',\n",
       "  '7.95',\n",
       "  '13047',\n",
       "  'United Kingdom'],\n",
       " ['536365',\n",
       "  '84406B',\n",
       "  'CREAM CUPID HEARTS COAT HANGER',\n",
       "  '8',\n",
       "  '01-12-2010 08:26',\n",
       "  '2.75',\n",
       "  '17850',\n",
       "  'United Kingdom'],\n",
       " [],\n",
       " ['536365',\n",
       "  '84406B',\n",
       "  'CREAM CUPID HEARTS COAT HANGER',\n",
       "  '8',\n",
       "  '01-12-2010 08:26',\n",
       "  '2.75',\n",
       "  '17850',\n",
       "  'United Kingdom'],\n",
       " [],\n",
       " ['536365',\n",
       "  '84406B',\n",
       "  'CREAM CUPID HEARTS COAT HANGER',\n",
       "  '8',\n",
       "  '01-12-2010 08:26',\n",
       "  '2.75',\n",
       "  '17850',\n",
       "  'United Kingdom'],\n",
       " [],\n",
       " ['536365',\n",
       "  '84406B',\n",
       "  'CREAM CUPID HEARTS COAT HANGER',\n",
       "  '8',\n",
       "  '01-12-2010 08:26',\n",
       "  '2.75',\n",
       "  '17850',\n",
       "  'United Kingdom'],\n",
       " []]"
      ]
     },
     "execution_count": 18,
     "metadata": {},
     "output_type": "execute_result"
    }
   ],
   "source": [
    "opFile = open(r\"C:\\Users\\amank\\Downloads\\I_Neuron\\Testdata1.csv\",'a')\n",
    "opWriter = csv.writer(opFile)\n",
    "csv.writer(opFile).writerow(['536365', '84406B', 'CREAM CUPID HEARTS COAT HANGER', '8', '01-12-2010 08:26', '2.75', '17850', 'United Kingdom'])\n",
    "opFile1 = open(r\"C:\\Users\\amank\\Downloads\\I_Neuron\\Testdata1.csv\",'r')\n",
    "File_reader = csv.reader(opFile1)\n",
    "Data = list(File_reader)\n",
    "Data"
   ]
  },
  {
   "cell_type": "markdown",
   "id": "9cdb5447",
   "metadata": {},
   "source": [
    "## Q5. What do the keyword arguments delimiter and line terminator do?"
   ]
  },
  {
   "cell_type": "markdown",
   "id": "561a91f0",
   "metadata": {},
   "source": [
    "S5. The delimiter argument changes the string used to separate cells in a row. The lineterminator argument changes the string used to separate rows."
   ]
  },
  {
   "cell_type": "code",
   "execution_count": 21,
   "id": "ccc75304",
   "metadata": {
    "scrolled": true
   },
   "outputs": [],
   "source": [
    "import csv\n",
    "csvFile = open(\"Testdata2.csv\", 'w', newline='')\n",
    "csvWriter = csv.writer(csvFile, delimiter='\\t', lineterminator='\\n\\n')"
   ]
  },
  {
   "cell_type": "markdown",
   "id": "f2c890c8",
   "metadata": {},
   "source": [
    "## Q6. What function takes a string of JSON data and returns a Python data structure?"
   ]
  },
  {
   "cell_type": "markdown",
   "id": "a4f3fd86",
   "metadata": {},
   "source": [
    "S6.json.loads()"
   ]
  },
  {
   "cell_type": "markdown",
   "id": "da2b9902",
   "metadata": {},
   "source": [
    "## Q7. What function takes a Python data structure and returns a string of JSON data?"
   ]
  },
  {
   "cell_type": "markdown",
   "id": "ed711e6f",
   "metadata": {},
   "source": [
    "S7. json.dumps()"
   ]
  }
 ],
 "metadata": {
  "kernelspec": {
   "display_name": "Python 3 (ipykernel)",
   "language": "python",
   "name": "python3"
  },
  "language_info": {
   "codemirror_mode": {
    "name": "ipython",
    "version": 3
   },
   "file_extension": ".py",
   "mimetype": "text/x-python",
   "name": "python",
   "nbconvert_exporter": "python",
   "pygments_lexer": "ipython3",
   "version": "3.9.7"
  }
 },
 "nbformat": 4,
 "nbformat_minor": 5
}
