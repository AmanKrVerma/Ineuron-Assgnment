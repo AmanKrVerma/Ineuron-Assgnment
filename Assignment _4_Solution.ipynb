{
 "cells": [
  {
   "cell_type": "markdown",
   "id": "65f7a7eb",
   "metadata": {},
   "source": [
    "# Assignment 4"
   ]
  },
  {
   "cell_type": "markdown",
   "id": "2b21ef1b",
   "metadata": {},
   "source": [
    "### Q1.What exactly is []?"
   ]
  },
  {
   "cell_type": "markdown",
   "id": "80429f63",
   "metadata": {},
   "source": [
    "S1. [] is empty list i.e. list containing no elements."
   ]
  },
  {
   "cell_type": "markdown",
   "id": "930cc18e",
   "metadata": {},
   "source": [
    "###  Q2.In a list of values stored in a variable called spam, how would you assign the value 'hello' as the third value? (Assume [2, 4, 6, 8, 10] are in spam.)"
   ]
  },
  {
   "cell_type": "markdown",
   "id": "59ed5648",
   "metadata": {},
   "source": [
    "S2."
   ]
  },
  {
   "cell_type": "code",
   "execution_count": 8,
   "id": "0802635e",
   "metadata": {},
   "outputs": [
    {
     "data": {
      "text/plain": [
       "[2, 4, 'hello', 8, 10]"
      ]
     },
     "execution_count": 8,
     "metadata": {},
     "output_type": "execute_result"
    }
   ],
   "source": [
    "spam=[2,4,6,8,10]\n",
    "spam[2]='hello'\n",
    "spam"
   ]
  },
  {
   "cell_type": "markdown",
   "id": "6610f7bf",
   "metadata": {},
   "source": [
    "### Q3.. What is the value of spam[int(int('3' * 2) / 11)]?"
   ]
  },
  {
   "cell_type": "code",
   "execution_count": 9,
   "id": "c22f8707",
   "metadata": {},
   "outputs": [
    {
     "data": {
      "text/plain": [
       "8"
      ]
     },
     "execution_count": 9,
     "metadata": {},
     "output_type": "execute_result"
    }
   ],
   "source": [
    "spam[int(int('3' * 2) / 11)]"
   ]
  },
  {
   "cell_type": "markdown",
   "id": "17d7c0ea",
   "metadata": {},
   "source": [
    "S3. As the value of int(int('3' * 2) / 11) = 3  On Evaluating spam[3] we get the value available at the index 4 of the list spam."
   ]
  },
  {
   "cell_type": "markdown",
   "id": "03c8a102",
   "metadata": {},
   "source": [
    "### Q4.What is the value of spam[-1]?"
   ]
  },
  {
   "cell_type": "code",
   "execution_count": 10,
   "id": "658393f6",
   "metadata": {},
   "outputs": [
    {
     "data": {
      "text/plain": [
       "10"
      ]
     },
     "execution_count": 10,
     "metadata": {},
     "output_type": "execute_result"
    }
   ],
   "source": [
    "spam[-1]"
   ]
  },
  {
   "cell_type": "markdown",
   "id": "a84cd43b",
   "metadata": {},
   "source": [
    "S4. The value at index -1 is 10 as we are using negatiive index. In this negative indexing. Here the index number starts from index number -1 which denotes the last character of a string."
   ]
  },
  {
   "cell_type": "markdown",
   "id": "e3858d32",
   "metadata": {},
   "source": [
    "### Q5.What is the value of spam[:2]?"
   ]
  },
  {
   "cell_type": "code",
   "execution_count": 11,
   "id": "49860c14",
   "metadata": {},
   "outputs": [
    {
     "data": {
      "text/plain": [
       "[2, 4]"
      ]
     },
     "execution_count": 11,
     "metadata": {},
     "output_type": "execute_result"
    }
   ],
   "source": [
    "spam[:2]"
   ]
  },
  {
   "cell_type": "markdown",
   "id": "bde4689d",
   "metadata": {},
   "source": [
    "S5. [:2] means indexing starts at 0 and ends at 1 with an default increment 1."
   ]
  },
  {
   "cell_type": "markdown",
   "id": "16a035d3",
   "metadata": {},
   "source": [
    "### Let's pretend bacon has the list [3.14, 'cat,' 11, 'cat,' True] for the next three questions."
   ]
  },
  {
   "cell_type": "code",
   "execution_count": 12,
   "id": "7468ce77",
   "metadata": {},
   "outputs": [],
   "source": [
    "bacon=[3.14, 'cat', 11, 'cat', True]"
   ]
  },
  {
   "cell_type": "markdown",
   "id": "1a824b90",
   "metadata": {},
   "source": [
    "### Q6.What is the value of bacon.index('cat')?"
   ]
  },
  {
   "cell_type": "code",
   "execution_count": 13,
   "id": "9f3e5613",
   "metadata": {},
   "outputs": [
    {
     "data": {
      "text/plain": [
       "1"
      ]
     },
     "execution_count": 13,
     "metadata": {},
     "output_type": "execute_result"
    }
   ],
   "source": [
    "bacon.index('cat')"
   ]
  },
  {
   "cell_type": "markdown",
   "id": "52858c40",
   "metadata": {},
   "source": [
    "S6. bacon.index('cat') calls the index of element 'cat' present in list bacon."
   ]
  },
  {
   "cell_type": "markdown",
   "id": "dfeac8f7",
   "metadata": {},
   "source": [
    "### Q7.How does bacon.append(99) change the look of the list value in bacon?"
   ]
  },
  {
   "cell_type": "code",
   "execution_count": 14,
   "id": "66b29da5",
   "metadata": {
    "scrolled": true
   },
   "outputs": [
    {
     "data": {
      "text/plain": [
       "[3.14, 'cat', 11, 'cat', True, 99]"
      ]
     },
     "execution_count": 14,
     "metadata": {},
     "output_type": "execute_result"
    }
   ],
   "source": [
    "bacon.append(99)\n",
    "bacon"
   ]
  },
  {
   "cell_type": "markdown",
   "id": "aeb0b5ee",
   "metadata": {},
   "source": [
    "S7. bacon.append(99) function appends 99 (at the end) as a element in the list bacon. "
   ]
  },
  {
   "cell_type": "markdown",
   "id": "19760596",
   "metadata": {},
   "source": [
    "### Q8.How does bacon.remove('cat') change the look of the list in bacon?"
   ]
  },
  {
   "cell_type": "code",
   "execution_count": 15,
   "id": "fd00291c",
   "metadata": {},
   "outputs": [
    {
     "data": {
      "text/plain": [
       "[3.14, 11, 'cat', True, 99]"
      ]
     },
     "execution_count": 15,
     "metadata": {},
     "output_type": "execute_result"
    }
   ],
   "source": [
    "bacon.remove('cat')\n",
    "bacon"
   ]
  },
  {
   "cell_type": "markdown",
   "id": "b068f7a0",
   "metadata": {},
   "source": [
    "S8. bacon.remove('cat') removes element 'cat' from the place of first occurance."
   ]
  },
  {
   "cell_type": "markdown",
   "id": "4b2c759d",
   "metadata": {},
   "source": [
    "### Q9.What are the list concatenation and list replication operators?"
   ]
  },
  {
   "cell_type": "markdown",
   "id": "9223866a",
   "metadata": {},
   "source": [
    "S9. List concatination: Means adding two list by means of + operator.\n",
    "When + appears between two lists, the expression will be evaluated as a new list that contains the elements from both lists. The elements in the list on the left of + will appear first, and the elements on the right will appear last.\n",
    "\n",
    "List replication: Means replicating same list multiple times by means of * operator. When * appears between a list and an integer, the expression will be evaluated as a new list that consists of several copies of the original list concatenated together. The number of copies is set by the integer."
   ]
  },
  {
   "cell_type": "code",
   "execution_count": 16,
   "id": "c3726890",
   "metadata": {},
   "outputs": [
    {
     "name": "stdout",
     "output_type": "stream",
     "text": [
      "list_concatenation: ['A', 'B', 'C', 1, 2, 3]\n",
      "list_replication:  ['A', 'B', 'C', 'A', 'B', 'C', 'A', 'B', 'C', 'A', 'B', 'C']\n"
     ]
    },
    {
     "data": {
      "text/plain": [
       "[1, 2, 3, 1, 2, 3, 1, 2, 3, 1, 2, 3]"
      ]
     },
     "execution_count": 16,
     "metadata": {},
     "output_type": "execute_result"
    }
   ],
   "source": [
    "list1 = ['A', 'B', 'C']\n",
    "list2 = [1, 2, 3]\n",
    "\n",
    "print(\"list_concatenation:\",list1 + list2)\n",
    "print(\"list_replication: \",list1 * 4)\n",
    "['A', 'B', 'C', 1, 2, 3]\n",
    "[1, 2, 3, 1, 2, 3, 1, 2, 3, 1, 2, 3]"
   ]
  },
  {
   "cell_type": "markdown",
   "id": "9f10d95c",
   "metadata": {},
   "source": [
    "### Q10. What is difference between the list methods append() and insert()?"
   ]
  },
  {
   "cell_type": "markdown",
   "id": "189d59bf",
   "metadata": {},
   "source": [
    "S10. \n",
    "Append():\n",
    "This function is used to modify an already existing list. Adds a new specific element at the end of the list.\n",
    "Syntax:List_Name.append(item)\n",
    "\n",
    "Insert():\n",
    "This function also modifies an already existing list. The only difference between append() and insert() is that insert function allows us to add a specific element at a specified index of the list unlike append() where we can add the element only at end of the list.\n",
    "Syntax:List_Name.insert(index, item)"
   ]
  },
  {
   "cell_type": "code",
   "execution_count": 17,
   "id": "545b378b",
   "metadata": {},
   "outputs": [
    {
     "data": {
      "text/plain": [
       "(['A', 'B', 'C', 'D'], [1, 2, '_', 3])"
      ]
     },
     "execution_count": 17,
     "metadata": {},
     "output_type": "execute_result"
    }
   ],
   "source": [
    "list1.append('D')\n",
    "list2.insert(2,\"_\")\n",
    "list1,list2\n"
   ]
  },
  {
   "cell_type": "markdown",
   "id": "1dd39b60",
   "metadata": {},
   "source": [
    "### Q11. What are the two methods for removing items from a list?"
   ]
  },
  {
   "cell_type": "markdown",
   "id": "77071639",
   "metadata": {},
   "source": [
    "S11.\n",
    "Using del statement:Items of the list can be deleted using del statement by specifying the index of item (element) to be deleted.\n",
    "Syntax:del List_Name(item index)\n",
    "\n",
    "Using Remove() function:We can remove an item from the list by passing the value of the item to be deleted as the parameter to remove() function.\n",
    "Syntax:List_Name.remove(item)\n",
    "\n",
    "Using pop() function:We can remove the element at the specified index and get the value of that element using pop().\n",
    "Syntax:List_Name.pop(item index)\n"
   ]
  },
  {
   "cell_type": "markdown",
   "id": "7d2d5054",
   "metadata": {},
   "source": [
    "### Q12. Describe how list values and string values are identical."
   ]
  },
  {
   "cell_type": "markdown",
   "id": "4f461d8a",
   "metadata": {},
   "source": [
    "S12. Strings can be defined as sequential collections of characters. This means that the individual characters that make up a string are in a particular order from left to right.\n",
    "A list is a sequential collection of Python data values, where each value is identified by an index. The values that make up a list are called its elements.\n",
    "\n",
    "The similarity between Lists and Strings in Python is that both are sequences. The differences between them are that firstly, Lists are mutable but Strings are immutable. Secondly, elements of a list can be of different types whereas a String only contains characters that are all of String type."
   ]
  },
  {
   "cell_type": "markdown",
   "id": "1643cbb4",
   "metadata": {},
   "source": [
    "### Q13. What's the difference between tuples and lists."
   ]
  },
  {
   "cell_type": "markdown",
   "id": "21144df5",
   "metadata": {},
   "source": [
    "S13. List and Tuple in Python are the classes of Python Data Structures. The list is dynamic, whereas the tuple has static characteristics. This means that lists can be modified whereas tuples cannot be modified, the tuple is faster than the list because of static in nature. Lists are denoted by the square brackets but tuples are denoted as parenthesis."
   ]
  },
  {
   "cell_type": "markdown",
   "id": "9a57e1f3",
   "metadata": {},
   "source": [
    "### Q14. How do you type a tuple value that only contains the integer 42?"
   ]
  },
  {
   "cell_type": "markdown",
   "id": "cbb2877f",
   "metadata": {},
   "source": [
    "S14.Dummy_Tuple=(42)"
   ]
  },
  {
   "cell_type": "code",
   "execution_count": 18,
   "id": "799dca90",
   "metadata": {},
   "outputs": [
    {
     "data": {
      "text/plain": [
       "42"
      ]
     },
     "execution_count": 18,
     "metadata": {},
     "output_type": "execute_result"
    }
   ],
   "source": [
    "Dummy_Tuple=(42)\n",
    "Dummy_Tuple"
   ]
  },
  {
   "cell_type": "markdown",
   "id": "2674970c",
   "metadata": {},
   "source": [
    "### Q15. How do you get a list value's tuple form? How do you get a tuple value's list form?"
   ]
  },
  {
   "cell_type": "markdown",
   "id": "b0a88f44",
   "metadata": {},
   "source": [
    "S15. "
   ]
  },
  {
   "cell_type": "code",
   "execution_count": 19,
   "id": "12e71ce4",
   "metadata": {},
   "outputs": [
    {
     "data": {
      "text/plain": [
       "(1, 2, 3)"
      ]
     },
     "execution_count": 19,
     "metadata": {},
     "output_type": "execute_result"
    }
   ],
   "source": [
    "list_a = [1,2,3]\n",
    "List_to_Tuple = tuple(list_a)\n",
    "List_to_Tuple"
   ]
  },
  {
   "cell_type": "code",
   "execution_count": 20,
   "id": "df49dc2f",
   "metadata": {},
   "outputs": [
    {
     "data": {
      "text/plain": [
       "['A', 'B', 'C']"
      ]
     },
     "execution_count": 20,
     "metadata": {},
     "output_type": "execute_result"
    }
   ],
   "source": [
    "tuple_a=('A','B','C')\n",
    "Tuple_to_List = list(tuple_a)\n",
    "Tuple_to_List"
   ]
  },
  {
   "cell_type": "markdown",
   "id": "10c85433",
   "metadata": {},
   "source": [
    "### Q16. Variables that \"contain\" list values are not necessarily lists themselves. Instead, what do they contain?"
   ]
  },
  {
   "cell_type": "markdown",
   "id": "ca39c5fb",
   "metadata": {},
   "source": [
    "S16. They contain references to list values."
   ]
  },
  {
   "cell_type": "markdown",
   "id": "34a2c3da",
   "metadata": {},
   "source": [
    "### Q17. How do you distinguish between copy.copy() and copy.deepcopy()?"
   ]
  },
  {
   "cell_type": "markdown",
   "id": "c97d27fe",
   "metadata": {},
   "source": [
    "S17. copy.copy(): In the case of shallow copy, a reference of an object is copied into another object. It means that any changes made to a copy of an object do reflect in the original object. In python, this is implemented using the “copy()” function.\n",
    "\n",
    "A shallow copy constructs a new compound object and then (to the extent possible) inserts references into it to the objects found in the original.\n",
    "\n",
    "copy.deepcopy(): In the case of deep copy, a copy of the object is copied into another object. It means that any changes made to a copy of the object do not reflect in the original object. In python, this is implemented using the “deepcopy()” function.\n",
    "\n",
    "A deep copy constructs a new compound object and then, recursively, inserts copies into it of the objects found in the original."
   ]
  }
 ],
 "metadata": {
  "kernelspec": {
   "display_name": "Python 3 (ipykernel)",
   "language": "python",
   "name": "python3"
  },
  "language_info": {
   "codemirror_mode": {
    "name": "ipython",
    "version": 3
   },
   "file_extension": ".py",
   "mimetype": "text/x-python",
   "name": "python",
   "nbconvert_exporter": "python",
   "pygments_lexer": "ipython3",
   "version": "3.9.7"
  }
 },
 "nbformat": 4,
 "nbformat_minor": 5
}
