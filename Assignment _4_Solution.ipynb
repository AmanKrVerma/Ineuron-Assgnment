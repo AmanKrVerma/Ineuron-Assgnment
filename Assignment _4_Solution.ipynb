{
 "cells": [
  {
   "cell_type": "markdown",
   "id": "dfe37e3f",
   "metadata": {},
   "source": [
    "# Assignment 4"
   ]
  },
  {
   "cell_type": "markdown",
   "id": "749ef316",
   "metadata": {},
   "source": [
    "### Q1.What exactly is []?"
   ]
  },
  {
   "cell_type": "markdown",
   "id": "cb622705",
   "metadata": {},
   "source": [
    "S1.[] is empty list i.e. list containing no elements."
   ]
  },
  {
   "cell_type": "markdown",
   "id": "179ee717",
   "metadata": {},
   "source": [
    "###  Q2.In a list of values stored in a variable called spam, how would you assign the value 'hello' as the third value? (Assume [2, 4, 6, 8, 10] are in spam.)"
   ]
  },
  {
   "cell_type": "code",
   "execution_count": 1,
   "id": "031488c7",
   "metadata": {},
   "outputs": [
    {
     "data": {
      "text/plain": [
       "[2, 4, 'hello', 8, 10]"
      ]
     },
     "execution_count": 1,
     "metadata": {},
     "output_type": "execute_result"
    }
   ],
   "source": [
    "spam=[2,4,6,8,10]\n",
    "spam[2]='hello'\n",
    "spam"
   ]
  },
  {
   "cell_type": "markdown",
   "id": "be1a7472",
   "metadata": {},
   "source": [
    "### Q3.. What is the value of spam[int(int('3' * 2) / 11)]?"
   ]
  },
  {
   "cell_type": "code",
   "execution_count": 2,
   "id": "46ee1033",
   "metadata": {},
   "outputs": [
    {
     "data": {
      "text/plain": [
       "8"
      ]
     },
     "execution_count": 2,
     "metadata": {},
     "output_type": "execute_result"
    }
   ],
   "source": [
    "spam[int(int('3' * 2) / 11)]"
   ]
  },
  {
   "cell_type": "markdown",
   "id": "5ac2f368",
   "metadata": {},
   "source": [
    "As the value of int(int('3' * 2) / 11) = 3  On Evaluating spam[3] we get the value available at the index 4 of the list spam."
   ]
  },
  {
   "cell_type": "markdown",
   "id": "b8d7a9bd",
   "metadata": {},
   "source": [
    "### Q4.What is the value of spam[-1]?"
   ]
  },
  {
   "cell_type": "code",
   "execution_count": 3,
   "id": "55c77b3e",
   "metadata": {},
   "outputs": [
    {
     "data": {
      "text/plain": [
       "10"
      ]
     },
     "execution_count": 3,
     "metadata": {},
     "output_type": "execute_result"
    }
   ],
   "source": [
    "spam[-1]"
   ]
  },
  {
   "cell_type": "markdown",
   "id": "9e8b77cf",
   "metadata": {},
   "source": [
    "S4.The value at index -1 is 10 as we are using negatiive index. In this negative indexing. Here the index number starts from index number -1 which denotes the last character of a string."
   ]
  },
  {
   "cell_type": "markdown",
   "id": "77b99929",
   "metadata": {},
   "source": [
    "### Q5.What is the value of spam[:2]?"
   ]
  },
  {
   "cell_type": "code",
   "execution_count": 4,
   "id": "128ac5b4",
   "metadata": {},
   "outputs": [
    {
     "data": {
      "text/plain": [
       "[2, 4]"
      ]
     },
     "execution_count": 4,
     "metadata": {},
     "output_type": "execute_result"
    }
   ],
   "source": [
    "spam[:2]"
   ]
  },
  {
   "cell_type": "markdown",
   "id": "0abc9928",
   "metadata": {},
   "source": [
    "S5.[:2] means indexing starts at 0 and ends at 1 with an default increment 1."
   ]
  },
  {
   "cell_type": "markdown",
   "id": "af05a635",
   "metadata": {},
   "source": [
    "### Let's pretend bacon has the list [3.14, 'cat,' 11, 'cat,' True] for the next three questions."
   ]
  },
  {
   "cell_type": "code",
   "execution_count": 5,
   "id": "b99279a3",
   "metadata": {},
   "outputs": [],
   "source": [
    "bacon=[3.14, 'cat', 11, 'cat', True]"
   ]
  },
  {
   "cell_type": "markdown",
   "id": "4f9511b7",
   "metadata": {},
   "source": [
    "### Q6.What is the value of bacon.index('cat')?"
   ]
  },
  {
   "cell_type": "code",
   "execution_count": 6,
   "id": "b8f5b763",
   "metadata": {},
   "outputs": [
    {
     "data": {
      "text/plain": [
       "1"
      ]
     },
     "execution_count": 6,
     "metadata": {},
     "output_type": "execute_result"
    }
   ],
   "source": [
    "bacon.index('cat')"
   ]
  },
  {
   "cell_type": "markdown",
   "id": "0872710e",
   "metadata": {},
   "source": [
    "S6.bacon.index('cat') calls the index of element 'cat' present in list bacon."
   ]
  },
  {
   "cell_type": "markdown",
   "id": "64e1a18e",
   "metadata": {},
   "source": [
    "### Q7.How does bacon.append(99) change the look of the list value in bacon?"
   ]
  },
  {
   "cell_type": "code",
   "execution_count": 7,
   "id": "1a4b74a0",
   "metadata": {
    "scrolled": true
   },
   "outputs": [
    {
     "data": {
      "text/plain": [
       "[3.14, 'cat', 11, 'cat', True, 99]"
      ]
     },
     "execution_count": 7,
     "metadata": {},
     "output_type": "execute_result"
    }
   ],
   "source": [
    "bacon.append(99)\n",
    "bacon"
   ]
  },
  {
   "cell_type": "markdown",
   "id": "e7e5e93f",
   "metadata": {},
   "source": [
    "S7. bacon.append(99) function appends 99 (at the end) as a element in the list bacon. "
   ]
  },
  {
   "cell_type": "markdown",
   "id": "b3d8bfd5",
   "metadata": {},
   "source": [
    "### Q8.How does bacon.remove('cat') change the look of the list in bacon?"
   ]
  },
  {
   "cell_type": "code",
   "execution_count": 8,
   "id": "dd97430e",
   "metadata": {},
   "outputs": [
    {
     "data": {
      "text/plain": [
       "[3.14, 11, 'cat', True, 99]"
      ]
     },
     "execution_count": 8,
     "metadata": {},
     "output_type": "execute_result"
    }
   ],
   "source": [
    "bacon.remove('cat')\n",
    "bacon"
   ]
  },
  {
   "cell_type": "markdown",
   "id": "1573c5d0",
   "metadata": {},
   "source": [
    " bacon.remove('cat') removes element 'cat' from the place of first occurance."
   ]
  },
  {
   "cell_type": "markdown",
   "id": "14ea91d1",
   "metadata": {},
   "source": [
    "### Q9.What are the list concatenation and list replication operators?"
   ]
  },
  {
   "cell_type": "markdown",
   "id": "718c42f1",
   "metadata": {},
   "source": [
    "S9.List concatination: Means adding two list by means of + operator.\n",
    "When + appears between two lists, the expression will be evaluated as a new list that contains the elements from both lists. The elements in the list on the left of + will appear first, and the elements on the right will appear last.\n",
    "\n",
    "List replication: Means replicating same list multiple times by means of * operator. When * appears between a list and an integer, the expression will be evaluated as a new list that consists of several copies of the original list concatenated together. The number of copies is set by the integer."
   ]
  },
  {
   "cell_type": "code",
   "execution_count": 24,
   "id": "0c7a101d",
   "metadata": {},
   "outputs": [
    {
     "name": "stdout",
     "output_type": "stream",
     "text": [
      "list_concatenation: ['A', 'B', 'C', 1, 2, 3]\n",
      "list_replication:  ['A', 'B', 'C', 'A', 'B', 'C', 'A', 'B', 'C', 'A', 'B', 'C']\n"
     ]
    },
    {
     "data": {
      "text/plain": [
       "[1, 2, 3, 1, 2, 3, 1, 2, 3, 1, 2, 3]"
      ]
     },
     "execution_count": 24,
     "metadata": {},
     "output_type": "execute_result"
    }
   ],
   "source": [
    "list1 = ['A', 'B', 'C']\n",
    "list2 = [1, 2, 3]\n",
    "\n",
    "print(\"list_concatenation:\",list1 + list2)\n",
    "print(\"list_replication: \",list1 * 4)\n",
    "['A', 'B', 'C', 1, 2, 3]\n",
    "[1, 2, 3, 1, 2, 3, 1, 2, 3, 1, 2, 3]"
   ]
  },
  {
   "cell_type": "markdown",
   "id": "2bfbeaaf",
   "metadata": {},
   "source": [
    "### Q10. What is difference between the list methods append() and insert()?"
   ]
  },
  {
   "cell_type": "markdown",
   "id": "d6715ef3",
   "metadata": {},
   "source": [
    "S10.\n",
    "Append():\n",
    "This function is used to modify an already existing list. Adds a new specific element at the end of the list.\n",
    "Syntax:List_Name.append(item)\n",
    "\n",
    "Insert():\n",
    "This function also modifies an already existing list. The only difference between append() and insert() is that insert function allows us to add a specific element at a specified index of the list unlike append() where we can add the element only at end of the list.\n",
    "Syntax:List_Name.insert(index, item)"
   ]
  },
  {
   "cell_type": "code",
   "execution_count": 25,
   "id": "39c5e876",
   "metadata": {},
   "outputs": [
    {
     "data": {
      "text/plain": [
       "(['A', 'B', 'C', 'D'], [1, 2, '_', 3])"
      ]
     },
     "execution_count": 25,
     "metadata": {},
     "output_type": "execute_result"
    }
   ],
   "source": [
    "list1.append('D')\n",
    "list2.insert(2,\"_\")\n",
    "list1,list2\n"
   ]
  },
  {
   "cell_type": "markdown",
   "id": "087b2baa",
   "metadata": {},
   "source": [
    "### Q11. What are the two methods for removing items from a list?"
   ]
  },
  {
   "cell_type": "markdown",
   "id": "b2da3900",
   "metadata": {},
   "source": [
    "S11.\n",
    "Using del statement:Items of the list can be deleted using del statement by specifying the index of item (element) to be deleted.\n",
    "Syntax:del List_Name(item index)\n",
    "\n",
    "Using Remove() function:We can remove an item from the list by passing the value of the item to be deleted as the parameter to remove() function.\n",
    "Syntax:List_Name.remove(item)\n",
    "\n",
    "Using pop() function:We can remove the element at the specified index and get the value of that element using pop().\n",
    "Syntax:List_Name.pop(item index)\n"
   ]
  },
  {
   "cell_type": "markdown",
   "id": "ba6a10e1",
   "metadata": {},
   "source": [
    "### Q12. Describe how list values and string values are identical."
   ]
  },
  {
   "cell_type": "markdown",
   "id": "72d251a3",
   "metadata": {},
   "source": [
    "S12.Strings can be defined as sequential collections of characters. This means that the individual characters that make up a string are in a particular order from left to right.\n",
    "A list is a sequential collection of Python data values, where each value is identified by an index. The values that make up a list are called its elements.\n",
    "\n",
    "The similarity between Lists and Strings in Python is that both are sequences. The differences between them are that firstly, Lists are mutable but Strings are immutable. Secondly, elements of a list can be of different types whereas a String only contains characters that are all of String type."
   ]
  },
  {
   "cell_type": "markdown",
   "id": "47ab4ad8",
   "metadata": {},
   "source": [
    "### Q13. What's the difference between tuples and lists."
   ]
  },
  {
   "cell_type": "markdown",
   "id": "c58c483f",
   "metadata": {},
   "source": [
    "S13. List and Tuple in Python are the classes of Python Data Structures. The list is dynamic, whereas the tuple has static characteristics. This means that lists can be modified whereas tuples cannot be modified, the tuple is faster than the list because of static in nature. Lists are denoted by the square brackets but tuples are denoted as parenthesis."
   ]
  },
  {
   "cell_type": "markdown",
   "id": "68b0fbb2",
   "metadata": {},
   "source": [
    "### Q14. How do you type a tuple value that only contains the integer 42?"
   ]
  },
  {
   "cell_type": "markdown",
   "id": "fb920f78",
   "metadata": {},
   "source": [
    "S14.Dummy_Tuple=(42)"
   ]
  },
  {
   "cell_type": "code",
   "execution_count": 1,
   "id": "7005f8ea",
   "metadata": {},
   "outputs": [
    {
     "data": {
      "text/plain": [
       "42"
      ]
     },
     "execution_count": 1,
     "metadata": {},
     "output_type": "execute_result"
    }
   ],
   "source": [
    "Dummy_Tuple=(42)\n",
    "Dummy_Tuple"
   ]
  },
  {
   "cell_type": "markdown",
   "id": "4084d76d",
   "metadata": {},
   "source": [
    "### Q15. How do you get a list value's tuple form? How do you get a tuple value's list form?"
   ]
  },
  {
   "cell_type": "markdown",
   "id": "ad2a38d7",
   "metadata": {},
   "source": [
    "S15."
   ]
  },
  {
   "cell_type": "code",
   "execution_count": 2,
   "id": "2606531f",
   "metadata": {},
   "outputs": [
    {
     "data": {
      "text/plain": [
       "(1, 2, 3)"
      ]
     },
     "execution_count": 2,
     "metadata": {},
     "output_type": "execute_result"
    }
   ],
   "source": [
    "list_a = [1,2,3]\n",
    "List_to_Tuple = tuple(list_a)\n",
    "List_to_Tuple"
   ]
  },
  {
   "cell_type": "code",
   "execution_count": 3,
   "id": "fd8aa1ce",
   "metadata": {},
   "outputs": [
    {
     "data": {
      "text/plain": [
       "['A', 'B', 'C']"
      ]
     },
     "execution_count": 3,
     "metadata": {},
     "output_type": "execute_result"
    }
   ],
   "source": [
    "tuple_a=('A','B','C')\n",
    "Tuple_to_List = list(tuple_a)\n",
    "Tuple_to_List"
   ]
  },
  {
   "cell_type": "markdown",
   "id": "a2d8c537",
   "metadata": {},
   "source": [
    "### Q16. Variables that \"contain\" list values are not necessarily lists themselves. Instead, what do they contain?"
   ]
  },
  {
   "cell_type": "markdown",
   "id": "a330bfb1",
   "metadata": {},
   "source": [
    "S16. They contain references to list values."
   ]
  },
  {
   "cell_type": "markdown",
   "id": "bc51bb62",
   "metadata": {},
   "source": [
    "### Q17. How do you distinguish between copy.copy() and copy.deepcopy()?"
   ]
  },
  {
   "cell_type": "markdown",
   "id": "87d97ae8",
   "metadata": {},
   "source": [
    "S17. copy.copy(): In the case of shallow copy, a reference of an object is copied into another object. It means that any changes made to a copy of an object do reflect in the original object. In python, this is implemented using the “copy()” function.\n",
    "\n",
    "A shallow copy constructs a new compound object and then (to the extent possible) inserts references into it to the objects found in the original.\n",
    "\n",
    "copy.deepcopy(): In the case of deep copy, a copy of the object is copied into another object. It means that any changes made to a copy of the object do not reflect in the original object. In python, this is implemented using the “deepcopy()” function.\n",
    "\n",
    "A deep copy constructs a new compound object and then, recursively, inserts copies into it of the objects found in the original."
   ]
  },
  {
   "cell_type": "code",
   "execution_count": null,
   "id": "a2ffb7fa",
   "metadata": {},
   "outputs": [],
   "source": []
  }
 ],
 "metadata": {
  "kernelspec": {
   "display_name": "Python 3 (ipykernel)",
   "language": "python",
   "name": "python3"
  },
  "language_info": {
   "codemirror_mode": {
    "name": "ipython",
    "version": 3
   },
   "file_extension": ".py",
   "mimetype": "text/x-python",
   "name": "python",
   "nbconvert_exporter": "python",
   "pygments_lexer": "ipython3",
   "version": "3.9.7"
  }
 },
 "nbformat": 4,
 "nbformat_minor": 5
}
