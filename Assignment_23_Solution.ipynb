{
 "cells": [
  {
   "cell_type": "markdown",
   "id": "0658844e",
   "metadata": {},
   "source": [
    "# Assignment_23"
   ]
  },
  {
   "cell_type": "markdown",
   "id": "49665397",
   "metadata": {},
   "source": [
    "## Q1. What is the result of the code, and why?"
   ]
  },
  {
   "cell_type": "raw",
   "id": "23592669",
   "metadata": {},
   "source": [
    "def func(a, b=6, c=8):\n",
    "    print(a, b, c)"
   ]
  },
  {
   "cell_type": "markdown",
   "id": "403e556f",
   "metadata": {},
   "source": [
    "S1."
   ]
  },
  {
   "cell_type": "code",
   "execution_count": 1,
   "id": "cdb15623",
   "metadata": {},
   "outputs": [],
   "source": [
    "def func(a, b=6, c=8):\n",
    "    print(a, b, c)"
   ]
  },
  {
   "cell_type": "code",
   "execution_count": 2,
   "id": "2cc02cfa",
   "metadata": {
    "scrolled": true
   },
   "outputs": [
    {
     "name": "stdout",
     "output_type": "stream",
     "text": [
      "1 2 8\n"
     ]
    }
   ],
   "source": [
    "func(1, 2)"
   ]
  },
  {
   "cell_type": "markdown",
   "id": "8ac3859e",
   "metadata": {},
   "source": [
    "Here as we have hardcoded and sent 2 values therefore preference is given to the input user gives. \n",
    "so a=1,b=2,c as by default argument 8."
   ]
  },
  {
   "cell_type": "markdown",
   "id": "0fb25470",
   "metadata": {},
   "source": [
    "## Q2. What is the result of this code, and why?"
   ]
  },
  {
   "cell_type": "raw",
   "id": "b3311c9a",
   "metadata": {},
   "source": [
    "def func(a, b, c=5):\n",
    "    print(a, b, c)\n",
    "func(1, c=3, b=2)"
   ]
  },
  {
   "cell_type": "markdown",
   "id": "2b284cac",
   "metadata": {},
   "source": [
    "S2."
   ]
  },
  {
   "cell_type": "code",
   "execution_count": 3,
   "id": "863f88ab",
   "metadata": {},
   "outputs": [
    {
     "name": "stdout",
     "output_type": "stream",
     "text": [
      "1 2 3\n"
     ]
    }
   ],
   "source": [
    "def func(a, b, c=5):\n",
    "    print(a, b, c)\n",
    "func(1, c=3, b=2)"
   ]
  },
  {
   "cell_type": "markdown",
   "id": "1988d7b5",
   "metadata": {},
   "source": [
    "here a=1,b=2(hardcoded by user),c=3(hardcoded by user).\n",
    "position doesnt matter as long as we have mentioned the variable to which value is assigned."
   ]
  },
  {
   "cell_type": "markdown",
   "id": "6f55f040",
   "metadata": {},
   "source": [
    "## Q3. How about this code: what is its result, and why?"
   ]
  },
  {
   "cell_type": "raw",
   "id": "12dc4abf",
   "metadata": {},
   "source": [
    "def func(a, *pargs):\n",
    "    print(a, pargs)\n",
    "func(1, 2, 3)"
   ]
  },
  {
   "cell_type": "markdown",
   "id": "a16135fa",
   "metadata": {},
   "source": [
    "S3."
   ]
  },
  {
   "cell_type": "code",
   "execution_count": 3,
   "id": "75cc407c",
   "metadata": {},
   "outputs": [
    {
     "name": "stdout",
     "output_type": "stream",
     "text": [
      "1 (2, 3)\n"
     ]
    }
   ],
   "source": [
    "def func(a, *pargs):\n",
    "    print(a, pargs)\n",
    "func(1, 2, 3)"
   ]
  },
  {
   "cell_type": "markdown",
   "id": "f4248515",
   "metadata": {},
   "source": [
    "Here a=1. *pargs returns as many argument user gives as input in form of tuples."
   ]
  },
  {
   "cell_type": "markdown",
   "id": "c27a3884",
   "metadata": {},
   "source": [
    "## Q4. What does this code print, and why?"
   ]
  },
  {
   "cell_type": "raw",
   "id": "58972269",
   "metadata": {},
   "source": [
    "def func(a, **kargs):\n",
    "    print(a, kargs)\n",
    "func(a=1, c=3, b=2)"
   ]
  },
  {
   "cell_type": "markdown",
   "id": "6faeee3e",
   "metadata": {},
   "source": [
    "S4."
   ]
  },
  {
   "cell_type": "code",
   "execution_count": 4,
   "id": "7aaa58b2",
   "metadata": {},
   "outputs": [
    {
     "name": "stdout",
     "output_type": "stream",
     "text": [
      "1 {'c': 3, 'b': 2}\n"
     ]
    }
   ],
   "source": [
    "def func(a, **kargs):\n",
    "    print(a, kargs)\n",
    "func(a=1, c=3, b=2)"
   ]
  },
  {
   "cell_type": "markdown",
   "id": "856e1dfc",
   "metadata": {},
   "source": [
    "Here a=1.  **kargs returns  as many argument user gives as input in form of dictionary "
   ]
  },
  {
   "cell_type": "markdown",
   "id": "9e0ef584",
   "metadata": {},
   "source": [
    "## Q5. What gets printed by this, and explain?"
   ]
  },
  {
   "cell_type": "raw",
   "id": "0478acc4",
   "metadata": {},
   "source": [
    "def func(a, b, c=8, d=5):\n",
    "    print(a, b, c, d)\n",
    "func(1, *(5, 6))\n"
   ]
  },
  {
   "cell_type": "markdown",
   "id": "a5a2942a",
   "metadata": {},
   "source": [
    "S5."
   ]
  },
  {
   "cell_type": "code",
   "execution_count": 12,
   "id": "f921e0e9",
   "metadata": {},
   "outputs": [
    {
     "name": "stdout",
     "output_type": "stream",
     "text": [
      "1 5 6 5\n"
     ]
    }
   ],
   "source": [
    "def func(a, b, c=8, d=5):\n",
    "    print(a, b, c, d)\n",
    "func(1, *(5, 6))\n"
   ]
  },
  {
   "cell_type": "markdown",
   "id": "20b82199",
   "metadata": {},
   "source": [
    "'*' is the unpacking operator and are operators that unpack the values from iterable objects in Python. The single asterisk operator * can be used on any iterable that Python provides, while the double asterisk operator ** can only be used on dictionaries. In the example the value *(5,6) will be unpacked and will be assigned to b and c and passed as arguments, d =5 will taken by defaults are keyword arguments..So here a=1,b=5,c=6,d=5."
   ]
  },
  {
   "cell_type": "markdown",
   "id": "c8f50c0f",
   "metadata": {},
   "source": [
    "## Q6. what is the result of this, and explain?"
   ]
  },
  {
   "cell_type": "markdown",
   "id": "ad506d8c",
   "metadata": {},
   "source": [
    "S6."
   ]
  },
  {
   "cell_type": "code",
   "execution_count": 8,
   "id": "3ea7ebbe",
   "metadata": {},
   "outputs": [],
   "source": [
    "def func(a, b, c):\n",
    "    a = 2; b[0] = 'x'; c['a'] = 'y'"
   ]
  },
  {
   "cell_type": "code",
   "execution_count": 9,
   "id": "2ac57fc3",
   "metadata": {},
   "outputs": [],
   "source": [
    "l=1; m=[1]; n={'a':0}"
   ]
  },
  {
   "cell_type": "code",
   "execution_count": 10,
   "id": "825ec369",
   "metadata": {},
   "outputs": [],
   "source": [
    "func(l, m, n)"
   ]
  },
  {
   "cell_type": "code",
   "execution_count": 11,
   "id": "62bb2372",
   "metadata": {},
   "outputs": [
    {
     "data": {
      "text/plain": [
       "(1, ['x'], {'a': 'y'})"
      ]
     },
     "execution_count": 11,
     "metadata": {},
     "output_type": "execute_result"
    }
   ],
   "source": [
    "l, m, n"
   ]
  },
  {
   "cell_type": "markdown",
   "id": "e8e8e9e5",
   "metadata": {},
   "source": [
    "Here in the code, the list and dict are passed as argument, and those are mutable. Here the list l and parametr b point to the same list in the memeory location where as dict n and c point to the same memory location. Any updates to this list will update in the memory location\n",
    "l = 1 , integer values, immutable, m is list, mutable, n is dict, mutable.\n",
    "output will be = 1,['x'],{'a':'y'}"
   ]
  }
 ],
 "metadata": {
  "kernelspec": {
   "display_name": "Python 3 (ipykernel)",
   "language": "python",
   "name": "python3"
  },
  "language_info": {
   "codemirror_mode": {
    "name": "ipython",
    "version": 3
   },
   "file_extension": ".py",
   "mimetype": "text/x-python",
   "name": "python",
   "nbconvert_exporter": "python",
   "pygments_lexer": "ipython3",
   "version": "3.9.7"
  }
 },
 "nbformat": 4,
 "nbformat_minor": 5
}
