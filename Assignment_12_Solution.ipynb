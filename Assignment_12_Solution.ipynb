{
 "cells": [
  {
   "cell_type": "markdown",
   "id": "e7c00857",
   "metadata": {},
   "source": [
    "# Assignment_12"
   ]
  },
  {
   "cell_type": "markdown",
   "id": "d42e6326",
   "metadata": {},
   "source": [
    "## Q1. In what modes should the PdfFileReader() and PdfFileWriter() File objects will be opened?"
   ]
  },
  {
   "cell_type": "markdown",
   "id": "a0585fd1",
   "metadata": {},
   "source": [
    "S1. These files will be opened in binary mode. Read-binary ('rb') for PdfFileReader() and write-binary ('wb') for PdfFileWriter()"
   ]
  },
  {
   "cell_type": "markdown",
   "id": "f1b37d36",
   "metadata": {},
   "source": [
    "## Q2. From a PdfFileReader object, how do you get a Page object for page 5?"
   ]
  },
  {
   "cell_type": "markdown",
   "id": "ee9d6a2e",
   "metadata": {},
   "source": [
    "S2. Calling getPage(4) will return a Page object for page 5, since page 0 is the first page."
   ]
  },
  {
   "cell_type": "code",
   "execution_count": 40,
   "id": "f123edb2",
   "metadata": {},
   "outputs": [
    {
     "data": {
      "text/plain": [
       "'BOD Primer\\nPage 5 of 61Respirometric BOD n determination\\nThe determination of the BOD concerns the determination of the degradation of organic\\nsubstances by microorganisms.The main application of respirometric BOD\\nn determination lies in the analysis of\\nwastewater in wastewater treatment plants. Respirometric measurement in a bottlecorresponds to the processes in a wastewater treatment plant, but on a greatly reduced\\nscale. At the same time, the analysis can be used for various aqueous media, e.g. in\\nflowing or standing surface waters and in natural as well as artificial waters.\\nThe measurement period can vary widely. For the classification and evaluation of the\\ndegradation performance of a wastewater treatment plant (with the exception of someScandinavian countries), it is customary to specify the BOD\\n5. In this case, the analysis\\ntime is 5 days. During this time, the measurement solution must be incubated at 20°C,\\ni.e. the sample bottle is thermostatted to (20 ± 1)°C in an incubator for the entire\\nmeasurement duration.Some Scandinavian countries specify the BOD\\n7 value. In a seven-day incubation\\nperiod, a measurement that is started on Tuesday is also completed on Tuesday;however, in a BOD\\n5 measurement, it is completed on Sunday. And who wants to go into\\nthe wastewater treatment plant on a Sunday to read the measured values! In the daysof the mercury manometer, the BOD\\n7 measurement offered a distinct advantage as\\nmeasurements could be made on practically any day. The use of the OxiTop\\uf8e8 system\\nnow also makes this possible for the BOD 5 measurement because it automatically\\nstores the measured values. The measured values, even those recorded on Sundaysand holidays, can be read just as well several days later. A further advantage of the\\nOxiTop\\n\\uf8e8 system is, moreover, the mercury-free pressure measurement. Many laws and\\nregulations namely call for the avoidance of chemicals and substances that are injuriousto health!'"
      ]
     },
     "execution_count": 40,
     "metadata": {},
     "output_type": "execute_result"
    }
   ],
   "source": [
    "#!pip install PyPDF2\n",
    "import PyPDF2 as pdf\n",
    "pdfFileObj = open(r\"C:\\Users\\amank\\Downloads\\BODn.pdf\",'rb')\n",
    "pdfReader = pdf.PdfReader(pdfFileObj)\n",
    "pageObj = pdfReader.pages[4]\n",
    "pageObj.extract_text()"
   ]
  },
  {
   "cell_type": "markdown",
   "id": "690d21f5",
   "metadata": {},
   "source": [
    "## Q3. What PdfFileReader variable stores the number of pages in the PDF document?"
   ]
  },
  {
   "cell_type": "markdown",
   "id": "9c13e65d",
   "metadata": {},
   "source": [
    " S3. The numPages variable stores an integer of the number of pages in the PdfFileReader object."
   ]
  },
  {
   "cell_type": "code",
   "execution_count": 41,
   "id": "522bca19",
   "metadata": {},
   "outputs": [
    {
     "data": {
      "text/plain": [
       "61"
      ]
     },
     "execution_count": 41,
     "metadata": {},
     "output_type": "execute_result"
    }
   ],
   "source": [
    "import PyPDF2 as pdf\n",
    "pdfFileObj = open(r\"C:\\Users\\amank\\Downloads\\BODn.pdf\",'rb')\n",
    "pdfReader = pdf.PdfReader(pdfFileObj)\n",
    "pageObj = len(pdfReader.pages)\n",
    "pageObj"
   ]
  },
  {
   "cell_type": "markdown",
   "id": "0bf6450a",
   "metadata": {},
   "source": [
    "## Q4. If a PdfFileReader object’s PDF is encrypted with the password swordfish, what must you do before you can obtain Page objects from it?"
   ]
  },
  {
   "cell_type": "markdown",
   "id": "80d1970e",
   "metadata": {},
   "source": [
    "S4. Before we obtain the page object, the pdf has to be decrypted by calling .decrypt('swordfish')\n"
   ]
  },
  {
   "cell_type": "raw",
   "id": "b4bd308e",
   "metadata": {},
   "source": [
    "pdfReader.decrypt('swordfish')"
   ]
  },
  {
   "cell_type": "markdown",
   "id": "924b5728",
   "metadata": {},
   "source": [
    "## Q5. What methods do you use to rotate a page?"
   ]
  },
  {
   "cell_type": "markdown",
   "id": "c645ba77",
   "metadata": {},
   "source": [
    "S5. The rotateClockwise() and rotateCounterClockwise() methods. The degrees to rotate is passed as an integer argument."
   ]
  },
  {
   "cell_type": "markdown",
   "id": "10c7b1c4",
   "metadata": {},
   "source": [
    "## Q6. What is the difference between a Run object and a Paragraph object?"
   ]
  },
  {
   "cell_type": "markdown",
   "id": "cb00fa1c",
   "metadata": {},
   "source": [
    "S6. A document contains multiple paragraphs. A paragraph begins on a new line and contains multiple runs. Runs are contiguous groups of characters within a paragraph. Or in other words Paragraph object has a run attribute that is a list of Run objects ,while Run objects have a text attribute, containing just the text in that particular run."
   ]
  },
  {
   "cell_type": "markdown",
   "id": "0d516b17",
   "metadata": {},
   "source": [
    "## Q7. How do you obtain a list of Paragraph objects for a Document object that’s stored in a variable named doc?"
   ]
  },
  {
   "cell_type": "markdown",
   "id": "c8b411a0",
   "metadata": {},
   "source": [
    "S7. By using doc.paragraphs"
   ]
  },
  {
   "cell_type": "code",
   "execution_count": 43,
   "id": "6817f085",
   "metadata": {},
   "outputs": [
    {
     "name": "stdout",
     "output_type": "stream",
     "text": [
      "[<docx.text.paragraph.Paragraph object at 0x0000027F49D7CCA0>, <docx.text.paragraph.Paragraph object at 0x0000027F49D7CEE0>]\n",
      "Abstract\n",
      "-------\n",
      "The city of Varanasi has been denoted by different names at different times in different contexts. The word Kashi means 'Concentration of Cosmic Light'. Generally, the city is known for its temples and ghats; historical records tell us about the importance and significance of the various Ponds, Kunds, Talabs, etc. The Laxmi Kund was initially known as Laxman Kund and near to it were the Ram Kund and Suraj Kund. Many religious activities are performed on auspicious occasions on the bank of these sacred ponds. The Kund is associated with Goddess Laksmi, the \"Goddess of wealth\". On the 8th of the waxing fortnight of Bhadrapada (August-September), the goddess moves from the sanctum to the foreground. And, on the 16th day, a religious fair is held there called \"Sorahia Mela\". In 2017 ONGC, a Maharatana company in India took the responsibility of restoring the ancient Kunds of Varanasi as their CSR. It was added to the HRIDAY scheme. \n",
      "-------\n"
     ]
    }
   ],
   "source": [
    "#!pip install python-docx\n",
    "import docx\n",
    "doc = docx.Document(r\"C:\\Users\\amank\\Downloads\\Abstract.docx\")\n",
    "all_paras = doc.paragraphs\n",
    "print (all_paras)\n",
    "for para in all_paras:\n",
    "    print(para.text)\n",
    "    print(\"-------\")\n"
   ]
  },
  {
   "cell_type": "markdown",
   "id": "016a8054",
   "metadata": {},
   "source": [
    "## Q8. What type of object has bold, underline, italic, strike, and outline variables?"
   ]
  },
  {
   "cell_type": "markdown",
   "id": "0136a8eb",
   "metadata": {},
   "source": [
    "S8. A Run object has bold, underline,italic,strike and outline variables."
   ]
  },
  {
   "cell_type": "markdown",
   "id": "73de9dbb",
   "metadata": {},
   "source": [
    "## Q9. What is the difference between False, True, and None for the bold variable?"
   ]
  },
  {
   "cell_type": "markdown",
   "id": "0d680bc5",
   "metadata": {},
   "source": [
    "S9. Runs can be further styled using text attributes. Each attribute can be set to one of three values: \n",
    "True (the attribute is always enabled, no matter what other styles are applied to the run), \n",
    "False (the attribute is always disabled),\n",
    "None (defaults to whatever the run’s style is set to)\n",
    "\n",
    "True always makes the Run object bolded and False makes it always not bolded, no matter what the style’s bold setting is. None will make the Run object just use the style’s bold setting."
   ]
  },
  {
   "cell_type": "markdown",
   "id": "480b25c9",
   "metadata": {},
   "source": [
    "## Q10. How do you create a Document object for a new Word document?"
   ]
  },
  {
   "cell_type": "markdown",
   "id": "0ff4ebd4",
   "metadata": {},
   "source": [
    "S10. Call the docx.Document() function."
   ]
  },
  {
   "cell_type": "markdown",
   "id": "92efdd31",
   "metadata": {},
   "source": [
    "## Q11. How do you add a paragraph with the text 'Hello, there!' to a Document object stored in a variable named doc?"
   ]
  },
  {
   "cell_type": "markdown",
   "id": "9c422edb",
   "metadata": {},
   "source": [
    "S11."
   ]
  },
  {
   "cell_type": "code",
   "execution_count": 44,
   "id": "f0893e41",
   "metadata": {},
   "outputs": [],
   "source": [
    "import docx\n",
    "doc = docx.Document(r\"C:\\Users\\amank\\Downloads\\Abstract.docx\")\n",
    "\n",
    "doc.add_paragraph('Hello there!')\n",
    "doc.save('Abstract_mordified.docx')"
   ]
  },
  {
   "cell_type": "markdown",
   "id": "9f6354fc",
   "metadata": {},
   "source": [
    "## Q12. What integers represent the levels of headings available in Word documents?"
   ]
  },
  {
   "cell_type": "markdown",
   "id": "c6cafecb",
   "metadata": {},
   "source": [
    "S12. integer from 0 to 4\n",
    "\n",
    "The arguments to add_heading() are a string of the heading text and an integer from 0 to 4. The integer 0 makes the heading the Title style, which is used for the top of the document. Integers 1 to 4 are for various heading levels, with 1 being the main heading and 4 the lowest subheading."
   ]
  }
 ],
 "metadata": {
  "kernelspec": {
   "display_name": "Python 3 (ipykernel)",
   "language": "python",
   "name": "python3"
  },
  "language_info": {
   "codemirror_mode": {
    "name": "ipython",
    "version": 3
   },
   "file_extension": ".py",
   "mimetype": "text/x-python",
   "name": "python",
   "nbconvert_exporter": "python",
   "pygments_lexer": "ipython3",
   "version": "3.9.7"
  }
 },
 "nbformat": 4,
 "nbformat_minor": 5
}
